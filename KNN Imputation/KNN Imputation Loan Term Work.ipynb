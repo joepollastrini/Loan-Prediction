{
 "cells": [
  {
   "cell_type": "code",
   "execution_count": 1,
   "metadata": {},
   "outputs": [],
   "source": [
    "import requests\n",
    "import os\n",
    "import io\n",
    "import pandas as pd\n",
    "import numpy as np\n",
    "import matplotlib.pyplot as plt\n",
    "import seaborn as sns\n",
    "%matplotlib inline\n",
    "\n",
    "from sklearn.neighbors import KNeighborsClassifier as KNN_Class\n",
    "from sklearn.metrics import classification_report as rep\n",
    "from sklearn.model_selection import GridSearchCV as gscv\n",
    "\n",
    "import warnings\n",
    "warnings.simplefilter(action='ignore')"
   ]
  },
  {
   "cell_type": "code",
   "execution_count": 2,
   "metadata": {},
   "outputs": [],
   "source": [
    "url = \"https://raw.githubusercontent.com/joepollastrini/Loan-Prediction/master\"\n",
    "train_name = 'train_loan_data.csv'\n",
    "test_name = 'test_loan_data.csv'"
   ]
  },
  {
   "cell_type": "code",
   "execution_count": 3,
   "metadata": {},
   "outputs": [],
   "source": [
    "def data_grab_online(base, name, out='output.csv'):\n",
    "    #get data from url\n",
    "    u = base + '/' + name\n",
    "    r = requests.get(u).content\n",
    "    df = pd.read_csv(u)\n",
    "    return df"
   ]
  },
  {
   "cell_type": "code",
   "execution_count": 4,
   "metadata": {},
   "outputs": [],
   "source": [
    "train = data_grab_online(url, train_name)\n",
    "test = data_grab_online(url, test_name)"
   ]
  },
  {
   "cell_type": "markdown",
   "metadata": {},
   "source": [
    "Clean like normal, don't clean anything that mode was used as imputation.  If any feature engineering was used from these imputed variables.  Keep them out until imputed."
   ]
  },
  {
   "cell_type": "code",
   "execution_count": 5,
   "metadata": {},
   "outputs": [],
   "source": [
    "def gender_impute_and_dummy(row):\n",
    "    #if unmarried and 1 dependent female, else male\n",
    "    if pd.isnull(row['Gender']):\n",
    "        if row['Married'] == 'No' and row['Dependents'] == '1':\n",
    "            return 0\n",
    "        else:\n",
    "            return 1\n",
    "    else:\n",
    "        if row['Gender'] == 'Male':\n",
    "            return 1\n",
    "        else:\n",
    "            return 0\n",
    "        \n",
    "train['Male_IO'] = train.apply(lambda x: gender_impute_and_dummy(x), axis=1)\n",
    "train.drop(columns = ['Gender'], inplace=True)\n",
    "\n",
    "test['Male_IO'] = test.apply(lambda x: gender_impute_and_dummy(x), axis=1)\n",
    "test.drop(columns = ['Gender'], inplace = True)"
   ]
  },
  {
   "cell_type": "code",
   "execution_count": 6,
   "metadata": {},
   "outputs": [],
   "source": [
    "def married_impute_and_dummy(x):\n",
    "    #if female, not married, otherwise married\n",
    "    if pd.isnull(x['Married']):\n",
    "        if x['Male_IO'] == 0:\n",
    "            return 0\n",
    "        else:\n",
    "            return 1\n",
    "    else:\n",
    "        if x['Married'] == 'Yes':\n",
    "            return 1\n",
    "        else:\n",
    "            return 0\n",
    "        \n",
    "train['Married_IO'] = train.apply(lambda x: married_impute_and_dummy(x), axis=1)\n",
    "train.drop(columns = ['Married'], inplace=True)\n",
    "\n",
    "test['Married_IO'] = test.apply(lambda x: married_impute_and_dummy(x), axis=1)\n",
    "test.drop(columns = ['Married'], inplace = True)"
   ]
  },
  {
   "cell_type": "code",
   "execution_count": 7,
   "metadata": {},
   "outputs": [],
   "source": [
    "def dependents_impute_and_ordinal(x):\n",
    "    #if married, one dependent, otherwise none\n",
    "    #convert dependents to ordinal int as well\n",
    "    if pd.isnull(x['Dependents']):\n",
    "        if x['Married_IO'] == 1:\n",
    "            return 1\n",
    "        else:\n",
    "            return 0\n",
    "    elif x['Dependents'] == '3+':\n",
    "        return 3\n",
    "    else:\n",
    "        return int(x['Dependents'])\n",
    "    \n",
    "    \n",
    "train['Dependents_Ord'] = train.apply(lambda x: dependents_impute_and_ordinal(x), axis=1)\n",
    "train.drop(columns = ['Dependents'], inplace=True)\n",
    "\n",
    "test['Dependents_Ord'] = test.apply(lambda x: dependents_impute_and_ordinal(x), axis=1)\n",
    "test.drop(columns = ['Dependents'], inplace = True)"
   ]
  },
  {
   "cell_type": "code",
   "execution_count": 8,
   "metadata": {},
   "outputs": [],
   "source": [
    "def dual_income_dummy(x):\n",
    "    if x['Married_IO'] == 1:\n",
    "        if x['CoapplicantIncome'] > 0:\n",
    "            return 1\n",
    "        else:\n",
    "            return 0\n",
    "    else:\n",
    "        return 0"
   ]
  },
  {
   "cell_type": "code",
   "execution_count": 9,
   "metadata": {},
   "outputs": [],
   "source": [
    "def clean(df):\n",
    "    col_drop = []\n",
    "    col_rename = {}\n",
    "    \n",
    "    # FAMILY SIZE #\n",
    "    df['FamilySize'] = df['Dependents_Ord'] + df['Married_IO'] + 1\n",
    "        \n",
    "    # EDUCATION #\n",
    "    df['Education_IO'] = df['Education'].apply(lambda x: 1 if x == 'Graduate' else 0)\n",
    "    col_drop.append('Education')\n",
    "\n",
    "    # INCOME #\n",
    "    df['FamilyIncome'] = df['ApplicantIncome'] + df['CoapplicantIncome']\n",
    "    df['DualIncome_IO'] = df.apply(lambda x: dual_income_dummy(x), axis=1)\n",
    "    col_drop.extend(['ApplicantIncome', 'CoapplicantIncome'])\n",
    "    \n",
    "    # PROPERTY AREA #\n",
    "    df['PA_Urban'] = df['Property_Area'].apply(lambda x: 1 if x == 'Urban' else 0)\n",
    "    df['PA_Rural'] = df['Property_Area'].apply(lambda x: 1 if x == 'Rural' else 0)\n",
    "    df['PA_Semiurban'] = df['Property_Area'].apply(lambda x: 1 if x == 'Semiurban' else 0)\n",
    "    col_drop.append('Property_Area')\n",
    "    \n",
    "    # INCOME PER FAMILY MEMBER #\n",
    "    df['IncomePerMember'] = df['FamilyIncome'] / df['FamilySize']\n",
    "    \n",
    "    #column cleaning\n",
    "    df.drop(columns = col_drop, inplace=True)\n",
    "    df.rename(columns=col_rename, inplace=True)\n",
    "    return df"
   ]
  },
  {
   "cell_type": "code",
   "execution_count": 10,
   "metadata": {},
   "outputs": [],
   "source": [
    "train_clean = clean(train)\n",
    "test_clean = clean(test)"
   ]
  },
  {
   "cell_type": "code",
   "execution_count": 11,
   "metadata": {},
   "outputs": [
    {
     "data": {
      "text/plain": [
       "Self_Employed       32\n",
       "LoanAmount          22\n",
       "Loan_Amount_Term    14\n",
       "Credit_History      50\n",
       "dtype: int64"
      ]
     },
     "execution_count": 11,
     "metadata": {},
     "output_type": "execute_result"
    }
   ],
   "source": [
    "nans = train_clean.isna().sum()\n",
    "nans = nans.loc[nans > 0]\n",
    "nans"
   ]
  },
  {
   "cell_type": "markdown",
   "metadata": {},
   "source": [
    "Remove all nan values in order to build model"
   ]
  },
  {
   "cell_type": "code",
   "execution_count": 12,
   "metadata": {},
   "outputs": [],
   "source": [
    "train_full = train_clean.dropna(subset = ['Self_Employed', 'LoanAmount', 'Loan_Amount_Term', 'Credit_History'])\n",
    "test_full = test_clean.dropna(subset = ['Self_Employed', 'LoanAmount', 'Loan_Amount_Term', 'Credit_History'])"
   ]
  },
  {
   "cell_type": "markdown",
   "metadata": {},
   "source": [
    "Will start with the lowest amount and work up to largest amount"
   ]
  },
  {
   "cell_type": "markdown",
   "metadata": {},
   "source": [
    "***\n",
    "## KNN for Loan_Amount_Term\n",
    "\n",
    "Remove any nan values from any variable used in model.  Create indicators for mode (360) or not.  Create another variable grouping terms."
   ]
  },
  {
   "cell_type": "code",
   "execution_count": 13,
   "metadata": {},
   "outputs": [
    {
     "data": {
      "text/plain": [
       "array([360., 120., 180.,  60., 300., 480., 240.,  36.,  84.])"
      ]
     },
     "execution_count": 13,
     "metadata": {},
     "output_type": "execute_result"
    }
   ],
   "source": [
    "train_full['Loan_Amount_Term'].unique()"
   ]
  },
  {
   "cell_type": "code",
   "execution_count": 14,
   "metadata": {},
   "outputs": [],
   "source": [
    "trainLAT = train_full.copy()\n",
    "testLAT = test_full.copy()\n",
    "\n",
    "def loan_group(x):\n",
    "    x = int(x)\n",
    "    if x == 360:\n",
    "        return '30'\n",
    "    elif x == 180:\n",
    "        return '15'\n",
    "    elif x < 180:\n",
    "        return '<15'\n",
    "    elif x > 180 and x < 360:\n",
    "        return '(15, 30)'\n",
    "    elif x > 360:\n",
    "        return '>30'\n",
    "    else:\n",
    "        return '??'\n",
    "    \n",
    "def mode_dummy(x):\n",
    "    x = int(x)\n",
    "    if x == 360:\n",
    "        return 1\n",
    "    else:\n",
    "        return 0\n",
    "    \n",
    "trainLAT['LoanTermGroups'] = trainLAT['Loan_Amount_Term'].apply(lambda x: loan_group(x))\n",
    "trainLAT['LT_30'] = trainLAT['Loan_Amount_Term'].apply(lambda x: mode_dummy(x))\n",
    "trainLAT['Self_Employed_IO'] = trainLAT['Self_Employed'].apply(lambda x: 1 if x=='Yes' else 0)\n",
    "\n",
    "testLAT['LoanTermGroups'] = testLAT['Loan_Amount_Term'].apply(lambda x: loan_group(x))\n",
    "testLAT['LT_30'] = testLAT['Loan_Amount_Term'].apply(lambda x: mode_dummy(x))\n",
    "testLAT['Self_Employed_IO'] = testLAT['Self_Employed'].apply(lambda x: 1 if x=='Yes' else 0)"
   ]
  },
  {
   "cell_type": "markdown",
   "metadata": {},
   "source": [
    "### Method 1:\n",
    "KNN classifier to predict loan term group"
   ]
  },
  {
   "cell_type": "code",
   "execution_count": 15,
   "metadata": {},
   "outputs": [
    {
     "data": {
      "image/png": "[encoded data removed]",
      "text/plain": [
       "<Figure size 720x576 with 4 Axes>"
      ]
     },
     "metadata": {
      "needs_background": "light"
     },
     "output_type": "display_data"
    }
   ],
   "source": [
    "fig = plt.figure(figsize=(10,8))\n",
    "ax1 = fig.add_subplot(2,2,1)\n",
    "sns.boxplot(trainLAT['LoanTermGroups'], trainLAT['LoanAmount']);\n",
    "\n",
    "ax2 = fig.add_subplot(2,2,2)\n",
    "sns.boxplot(trainLAT['LoanTermGroups'], trainLAT['FamilyIncome']);\n",
    "\n",
    "ax3 = fig.add_subplot(2,2,3)\n",
    "sns.boxplot(trainLAT['LoanTermGroups'], trainLAT['IncomePerMember']);\n",
    "\n",
    "ax4 = fig.add_subplot(2,2,4)\n",
    "sns.boxplot(trainLAT['LoanTermGroups'], trainLAT['FamilySize']);"
   ]
  },
  {
   "cell_type": "markdown",
   "metadata": {},
   "source": [
    "Use forward selection to try and find the best model"
   ]
  },
  {
   "cell_type": "code",
   "execution_count": 38,
   "metadata": {},
   "outputs": [],
   "source": [
    "def knn(train, test, x_cols, y, mode):\n",
    "    x_train = train[x_cols]\n",
    "    y_train = train[y]\n",
    "    x_test = test[x_cols]\n",
    "    y_test = test[y]\n",
    "    \n",
    "    #determine best k value\n",
    "    hyperparameters = dict(n_neighbors = list(range(2,20)))\n",
    "    knn_cv = KNN_Class()\n",
    "    models = gscv(knn_cv, hyperparameters, cv=5)\n",
    "    best_model = models.fit(x_train, y_train)\n",
    "    k = best_model.best_estimator_.get_params()['n_neighbors']\n",
    "    print('Optimized K:  {}'.format(k))\n",
    "    \n",
    "    #fit model\n",
    "    model = KNN_Class(n_neighbors = k)\n",
    "    model.fit(x_train, y_train)\n",
    "    \n",
    "    ### training set ###\n",
    "    print(' *** Training ***')\n",
    "    trainPreds = model.predict(x_train)\n",
    "    trainPredictions = pd.DataFrame(trainPreds, columns = ['Predicted'])\n",
    "    print(trainPredictions['Predicted'].value_counts())\n",
    "    y_train.reset_index(drop=True, inplace=True)\n",
    "    trainPredictions.reset_index(drop=True, inplace=True)\n",
    "    trainAccDF = pd.concat((y_train, trainPredictions), axis=1)\n",
    "    trainAccDF['Right'] = trainAccDF.apply(lambda x: 1 if x[y] == x['Predicted'] else 0, axis=1)\n",
    "    trainAcc = trainAccDF['Right'].sum() / len(trainAccDF)\n",
    "    print('\\nTraining Accuracy:  {:.2f}%'.format(trainAcc * 100.0))\n",
    "    \n",
    "    trainBench = len(trainAccDF.loc[trainAccDF[y] == mode]) / len(trainAccDF)\n",
    "    print('\\n', 'Accuracy if selected mode ({}):  {:.2f}%'.format(mode, trainBench * 100.0))\n",
    "    ### training set ###\n",
    "    \n",
    "    print('\\n---------------------------------------------------\\n')\n",
    "    \n",
    "    ### testing set ###\n",
    "    print(' *** Testing *** ')\n",
    "    testPreds = model.predict(x_test)\n",
    "    testPredictions = pd.DataFrame(testPreds, columns=['Predicted'])\n",
    "    print(testPredictions['Predicted'].value_counts())\n",
    "    y_test.reset_index(drop=True, inplace=True)\n",
    "    testPredictions.reset_index(drop=True, inplace=True)\n",
    "    testAccDF = pd.concat((y_test, testPredictions), axis=1)\n",
    "    testAccDF['Right'] = testAccDF.apply(lambda x: 1 if x[y] == x['Predicted'] else 0, axis=1)\n",
    "    testAcc = testAccDF['Right'].sum() / len(testAccDF)\n",
    "    print('Testing Accuracy:  {:.2f}%'.format(testAcc * 100.0))\n",
    "    \n",
    "    testBench = len(testAccDF.loc[testAccDF[y] == mode]) / len(testAccDF)\n",
    "    \n",
    "    print('\\n', 'Accuracy if selected mode ({}):  {:.2f}%'.format(mode, testBench * 100.0))\n",
    "    ### testing set ###\n",
    "    \n",
    "    return model"
   ]
  },
  {
   "cell_type": "code",
   "execution_count": 17,
   "metadata": {},
   "outputs": [
    {
     "name": "stdout",
     "output_type": "stream",
     "text": [
      "Optimized K:  8\n",
      " *** Training ***\n",
      "30    504\n",
      "Name: Predicted, dtype: int64\n",
      "\n",
      "Training Accuracy:  85.32%\n",
      "\n",
      " Accuracy if selected mode (30):  85.32%\n",
      "\n",
      "---------------------------------------------------\n",
      "\n",
      " *** Testing *** \n",
      "30    306\n",
      "Name: Predicted, dtype: int64\n",
      "Testing Accuracy:  85.62%\n",
      "\n",
      " Accuracy if selected mode (30):  85.62%\n"
     ]
    }
   ],
   "source": [
    "knn(trainLAT, testLAT, ['LoanAmount'], 'LoanTermGroups', '30')"
   ]
  },
  {
   "cell_type": "code",
   "execution_count": 18,
   "metadata": {},
   "outputs": [
    {
     "name": "stdout",
     "output_type": "stream",
     "text": [
      "Optimized K:  7\n",
      " *** Training ***\n",
      "30    504\n",
      "Name: Predicted, dtype: int64\n",
      "\n",
      "Training Accuracy:  85.32%\n",
      "\n",
      " Accuracy if selected mode (30):  85.32%\n",
      "\n",
      "---------------------------------------------------\n",
      "\n",
      " *** Testing *** \n",
      "30    306\n",
      "Name: Predicted, dtype: int64\n",
      "Testing Accuracy:  85.62%\n",
      "\n",
      " Accuracy if selected mode (30):  85.62%\n"
     ]
    }
   ],
   "source": [
    "knn(trainLAT, testLAT, ['FamilyIncome'], 'LoanTermGroups', '30')"
   ]
  },
  {
   "cell_type": "code",
   "execution_count": 19,
   "metadata": {},
   "outputs": [
    {
     "name": "stdout",
     "output_type": "stream",
     "text": [
      "Optimized K:  10\n",
      " *** Training ***\n",
      "30    504\n",
      "Name: Predicted, dtype: int64\n",
      "\n",
      "Training Accuracy:  85.32%\n",
      "\n",
      " Accuracy if selected mode (30):  85.32%\n",
      "\n",
      "---------------------------------------------------\n",
      "\n",
      " *** Testing *** \n",
      "30    306\n",
      "Name: Predicted, dtype: int64\n",
      "Testing Accuracy:  85.62%\n",
      "\n",
      " Accuracy if selected mode (30):  85.62%\n"
     ]
    }
   ],
   "source": [
    "knn(trainLAT, testLAT, ['IncomePerMember'], 'LoanTermGroups', '30')"
   ]
  },
  {
   "cell_type": "code",
   "execution_count": 20,
   "metadata": {},
   "outputs": [
    {
     "name": "stdout",
     "output_type": "stream",
     "text": [
      "Optimized K:  4\n",
      " *** Training ***\n",
      "30    504\n",
      "Name: Predicted, dtype: int64\n",
      "\n",
      "Training Accuracy:  85.32%\n",
      "\n",
      " Accuracy if selected mode (30):  85.32%\n",
      "\n",
      "---------------------------------------------------\n",
      "\n",
      " *** Testing *** \n",
      "30    306\n",
      "Name: Predicted, dtype: int64\n",
      "Testing Accuracy:  85.62%\n",
      "\n",
      " Accuracy if selected mode (30):  85.62%\n"
     ]
    }
   ],
   "source": [
    "knn(trainLAT, testLAT, ['FamilySize'], 'LoanTermGroups', '30')"
   ]
  },
  {
   "cell_type": "markdown",
   "metadata": {},
   "source": [
    "Will start with IncomePerMember and look to improve on accuracy"
   ]
  },
  {
   "cell_type": "code",
   "execution_count": 21,
   "metadata": {},
   "outputs": [
    {
     "name": "stdout",
     "output_type": "stream",
     "text": [
      "Optimized K:  10\n",
      " *** Training ***\n",
      "30    504\n",
      "Name: Predicted, dtype: int64\n",
      "\n",
      "Training Accuracy:  85.32%\n",
      "\n",
      " Accuracy if selected mode (30):  85.32%\n",
      "\n",
      "---------------------------------------------------\n",
      "\n",
      " *** Testing *** \n",
      "30    306\n",
      "Name: Predicted, dtype: int64\n",
      "Testing Accuracy:  85.62%\n",
      "\n",
      " Accuracy if selected mode (30):  85.62%\n"
     ]
    }
   ],
   "source": [
    "knn(trainLAT, testLAT, ['IncomePerMember'], 'LoanTermGroups', '30')"
   ]
  },
  {
   "cell_type": "code",
   "execution_count": 22,
   "metadata": {},
   "outputs": [
    {
     "name": "stdout",
     "output_type": "stream",
     "text": [
      "Optimized K:  7\n",
      " *** Training ***\n",
      "30    503\n",
      "15      1\n",
      "Name: Predicted, dtype: int64\n",
      "\n",
      "Training Accuracy:  85.52%\n",
      "\n",
      " Accuracy if selected mode (30):  85.32%\n",
      "\n",
      "---------------------------------------------------\n",
      "\n",
      " *** Testing *** \n",
      "30    305\n",
      "15      1\n",
      "Name: Predicted, dtype: int64\n",
      "Testing Accuracy:  85.95%\n",
      "\n",
      " Accuracy if selected mode (30):  85.62%\n"
     ]
    }
   ],
   "source": [
    "knn(trainLAT, testLAT, ['IncomePerMember', 'FamilyIncome'], 'LoanTermGroups', '30')"
   ]
  },
  {
   "cell_type": "code",
   "execution_count": 23,
   "metadata": {},
   "outputs": [
    {
     "name": "stdout",
     "output_type": "stream",
     "text": [
      "Optimized K:  10\n",
      " *** Training ***\n",
      "30    504\n",
      "Name: Predicted, dtype: int64\n",
      "\n",
      "Training Accuracy:  85.32%\n",
      "\n",
      " Accuracy if selected mode (30):  85.32%\n",
      "\n",
      "---------------------------------------------------\n",
      "\n",
      " *** Testing *** \n",
      "30    306\n",
      "Name: Predicted, dtype: int64\n",
      "Testing Accuracy:  85.62%\n",
      "\n",
      " Accuracy if selected mode (30):  85.62%\n"
     ]
    }
   ],
   "source": [
    "knn(trainLAT, testLAT, ['FamilySize', 'IncomePerMember'], 'LoanTermGroups', '30')"
   ]
  },
  {
   "cell_type": "code",
   "execution_count": 24,
   "metadata": {},
   "outputs": [
    {
     "name": "stdout",
     "output_type": "stream",
     "text": [
      "Optimized K:  10\n",
      " *** Training ***\n",
      "30    502\n",
      "15      2\n",
      "Name: Predicted, dtype: int64\n",
      "\n",
      "Training Accuracy:  85.32%\n",
      "\n",
      " Accuracy if selected mode (30):  85.32%\n",
      "\n",
      "---------------------------------------------------\n",
      "\n",
      " *** Testing *** \n",
      "30    305\n",
      "15      1\n",
      "Name: Predicted, dtype: int64\n",
      "Testing Accuracy:  85.29%\n",
      "\n",
      " Accuracy if selected mode (30):  85.62%\n"
     ]
    }
   ],
   "source": [
    "knn(trainLAT, testLAT, ['LoanAmount', 'IncomePerMember'], 'LoanTermGroups', '30')"
   ]
  },
  {
   "cell_type": "markdown",
   "metadata": {},
   "source": [
    "Tried using indicator vars, everything was exact same accuracy, and worse than above models"
   ]
  },
  {
   "cell_type": "code",
   "execution_count": 25,
   "metadata": {},
   "outputs": [
    {
     "name": "stdout",
     "output_type": "stream",
     "text": [
      "Optimized K:  10\n",
      " *** Training ***\n",
      "30    502\n",
      "15      2\n",
      "Name: Predicted, dtype: int64\n",
      "\n",
      "Training Accuracy:  85.32%\n",
      "\n",
      " Accuracy if selected mode (30):  85.32%\n",
      "\n",
      "---------------------------------------------------\n",
      "\n",
      " *** Testing *** \n",
      "30    305\n",
      "15      1\n",
      "Name: Predicted, dtype: int64\n",
      "Testing Accuracy:  85.29%\n",
      "\n",
      " Accuracy if selected mode (30):  85.62%\n"
     ]
    }
   ],
   "source": [
    "knn(trainLAT, testLAT, ['LoanAmount', 'IncomePerMember', 'PA_Urban', 'PA_Semiurban'], 'LoanTermGroups', '30')"
   ]
  },
  {
   "cell_type": "markdown",
   "metadata": {},
   "source": [
    "Use the below model (IncomePerMember and FamilyIncome to impute loan term (grouping) with K=7.  This model improves on the accuracy of only selecting the mode (30 year term) for both test and train set. It still mostly selects 30 year, but is correct when selecting a different term."
   ]
  },
  {
   "cell_type": "code",
   "execution_count": 39,
   "metadata": {},
   "outputs": [
    {
     "name": "stdout",
     "output_type": "stream",
     "text": [
      "Optimized K:  7\n",
      " *** Training ***\n",
      "30    503\n",
      "15      1\n",
      "Name: Predicted, dtype: int64\n",
      "\n",
      "Training Accuracy:  85.52%\n",
      "\n",
      " Accuracy if selected mode (30):  85.32%\n",
      "\n",
      "---------------------------------------------------\n",
      "\n",
      " *** Testing *** \n",
      "30    305\n",
      "15      1\n",
      "Name: Predicted, dtype: int64\n",
      "Testing Accuracy:  85.95%\n",
      "\n",
      " Accuracy if selected mode (30):  85.62%\n"
     ]
    }
   ],
   "source": [
    "m = knn(trainLAT, testLAT, ['IncomePerMember', 'FamilyIncome'], 'LoanTermGroups', '30')"
   ]
  },
  {
   "cell_type": "code",
   "execution_count": 27,
   "metadata": {},
   "outputs": [
    {
     "data": {
      "text/plain": [
       "'C:\\\\Users\\\\joepo\\\\Desktop\\\\Project Portfolio\\\\Loan Prediction\\\\Credit History'"
      ]
     },
     "execution_count": 27,
     "metadata": {},
     "output_type": "execute_result"
    }
   ],
   "source": [
    "os.getcwd()"
   ]
  },
  {
   "cell_type": "code",
   "execution_count": 30,
   "metadata": {},
   "outputs": [],
   "source": [
    "os.chdir('..')"
   ]
  },
  {
   "cell_type": "code",
   "execution_count": 32,
   "metadata": {},
   "outputs": [],
   "source": [
    "x = os.getcwd()"
   ]
  },
  {
   "cell_type": "code",
   "execution_count": 33,
   "metadata": {},
   "outputs": [
    {
     "data": {
      "text/plain": [
       "'C:\\\\Users\\\\joepo\\\\Desktop\\\\Project Portfolio\\\\Loan Prediction\\\\Models'"
      ]
     },
     "execution_count": 33,
     "metadata": {},
     "output_type": "execute_result"
    }
   ],
   "source": [
    "os.path.join(x, 'Models')"
   ]
  },
  {
   "cell_type": "code",
   "execution_count": 34,
   "metadata": {},
   "outputs": [],
   "source": [
    "import pickle"
   ]
  },
  {
   "cell_type": "code",
   "execution_count": 35,
   "metadata": {},
   "outputs": [],
   "source": [
    "fname = 'knn_Loan_Term.sav'"
   ]
  },
  {
   "cell_type": "code",
   "execution_count": 40,
   "metadata": {},
   "outputs": [],
   "source": [
    "pickle.dump(m, open(os.path.join(x, 'Models', fname), 'wb'))"
   ]
  },
  {
   "cell_type": "code",
   "execution_count": null,
   "metadata": {},
   "outputs": [],
   "source": []
  }
 ],
 "metadata": {
  "kernelspec": {
   "display_name": "Python 3",
   "language": "python",
   "name": "python3"
  },
  "language_info": {
   "codemirror_mode": {
    "name": "ipython",
    "version": 3
   },
   "file_extension": ".py",
   "mimetype": "text/x-python",
   "name": "python",
   "nbconvert_exporter": "python",
   "pygments_lexer": "ipython3",
   "version": "3.7.4"
  }
 },
 "nbformat": 4,
 "nbformat_minor": 2
}
