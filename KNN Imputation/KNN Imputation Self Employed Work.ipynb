{
 "cells": [
  {
   "cell_type": "code",
   "execution_count": 1,
   "metadata": {},
   "outputs": [],
   "source": [
    "import requests\n",
    "import os\n",
    "import io\n",
    "import pandas as pd\n",
    "import numpy as np\n",
    "import matplotlib.pyplot as plt\n",
    "import seaborn as sns\n",
    "%matplotlib inline\n",
    "\n",
    "from sklearn.neighbors import KNeighborsClassifier as KNN_Class\n",
    "from sklearn.metrics import classification_report as rep\n",
    "from sklearn.model_selection import GridSearchCV as gscv\n",
    "from sklearn.metrics import mean_squared_error as mse\n",
    "from sklearn.neighbors import KNeighborsRegressor as KNN_Reg\n",
    "\n",
    "import warnings\n",
    "warnings.simplefilter(action='ignore')"
   ]
  },
  {
   "cell_type": "code",
   "execution_count": 2,
   "metadata": {},
   "outputs": [],
   "source": [
    "url = \"https://raw.githubusercontent.com/joepollastrini/Loan-Prediction/master\"\n",
    "train_name = 'train_loan_data.csv'\n",
    "test_name = 'test_loan_data.csv'"
   ]
  },
  {
   "cell_type": "code",
   "execution_count": 3,
   "metadata": {},
   "outputs": [],
   "source": [
    "def data_grab_online(base, name, out='output.csv'):\n",
    "    #get data from url\n",
    "    u = base + '/' + name\n",
    "    r = requests.get(u).content\n",
    "    df = pd.read_csv(u)\n",
    "    return df"
   ]
  },
  {
   "cell_type": "code",
   "execution_count": 4,
   "metadata": {},
   "outputs": [],
   "source": [
    "train = data_grab_online(url, train_name)\n",
    "test = data_grab_online(url, test_name)"
   ]
  },
  {
   "cell_type": "markdown",
   "metadata": {},
   "source": [
    "Clean like normal, don't clean anything that mode was used as imputation.  If any feature engineering was used from these imputed variables.  Keep them out until imputed."
   ]
  },
  {
   "cell_type": "code",
   "execution_count": 5,
   "metadata": {},
   "outputs": [],
   "source": [
    "def gender_impute_and_dummy(row):\n",
    "    #if unmarried and 1 dependent female, else male\n",
    "    if pd.isnull(row['Gender']):\n",
    "        if row['Married'] == 'No' and row['Dependents'] == '1':\n",
    "            return 0\n",
    "        else:\n",
    "            return 1\n",
    "    else:\n",
    "        if row['Gender'] == 'Male':\n",
    "            return 1\n",
    "        else:\n",
    "            return 0\n",
    "        \n",
    "train['Male_IO'] = train.apply(lambda x: gender_impute_and_dummy(x), axis=1)\n",
    "train.drop(columns = ['Gender'], inplace=True)\n",
    "\n",
    "test['Male_IO'] = test.apply(lambda x: gender_impute_and_dummy(x), axis=1)\n",
    "test.drop(columns = ['Gender'], inplace = True)"
   ]
  },
  {
   "cell_type": "code",
   "execution_count": 6,
   "metadata": {},
   "outputs": [],
   "source": [
    "def married_impute_and_dummy(x):\n",
    "    #if female, not married, otherwise married\n",
    "    if pd.isnull(x['Married']):\n",
    "        if x['Male_IO'] == 0:\n",
    "            return 0\n",
    "        else:\n",
    "            return 1\n",
    "    else:\n",
    "        if x['Married'] == 'Yes':\n",
    "            return 1\n",
    "        else:\n",
    "            return 0\n",
    "        \n",
    "train['Married_IO'] = train.apply(lambda x: married_impute_and_dummy(x), axis=1)\n",
    "train.drop(columns = ['Married'], inplace=True)\n",
    "\n",
    "test['Married_IO'] = test.apply(lambda x: married_impute_and_dummy(x), axis=1)\n",
    "test.drop(columns = ['Married'], inplace = True)"
   ]
  },
  {
   "cell_type": "code",
   "execution_count": 7,
   "metadata": {},
   "outputs": [],
   "source": [
    "def dependents_impute_and_ordinal(x):\n",
    "    #if married, one dependent, otherwise none\n",
    "    #convert dependents to ordinal int as well\n",
    "    if pd.isnull(x['Dependents']):\n",
    "        if x['Married_IO'] == 1:\n",
    "            return 1\n",
    "        else:\n",
    "            return 0\n",
    "    elif x['Dependents'] == '3+':\n",
    "        return 3\n",
    "    else:\n",
    "        return int(x['Dependents'])\n",
    "    \n",
    "    \n",
    "train['Dependents_Ord'] = train.apply(lambda x: dependents_impute_and_ordinal(x), axis=1)\n",
    "train.drop(columns = ['Dependents'], inplace=True)\n",
    "\n",
    "test['Dependents_Ord'] = test.apply(lambda x: dependents_impute_and_ordinal(x), axis=1)\n",
    "test.drop(columns = ['Dependents'], inplace = True)"
   ]
  },
  {
   "cell_type": "code",
   "execution_count": 8,
   "metadata": {},
   "outputs": [],
   "source": [
    "def dual_income_dummy(x):\n",
    "    if x['Married_IO'] == 1:\n",
    "        if x['CoapplicantIncome'] > 0:\n",
    "            return 1\n",
    "        else:\n",
    "            return 0\n",
    "    else:\n",
    "        return 0"
   ]
  },
  {
   "cell_type": "code",
   "execution_count": 9,
   "metadata": {},
   "outputs": [],
   "source": [
    "def clean(df):\n",
    "    col_drop = []\n",
    "    col_rename = {}\n",
    "    \n",
    "    # FAMILY SIZE #\n",
    "    df['FamilySize'] = df['Dependents_Ord'] + df['Married_IO'] + 1\n",
    "        \n",
    "    # EDUCATION #\n",
    "    df['Education_IO'] = df['Education'].apply(lambda x: 1 if x == 'Graduate' else 0)\n",
    "    col_drop.append('Education')\n",
    "\n",
    "    # INCOME #\n",
    "    df['FamilyIncome'] = df['ApplicantIncome'] + df['CoapplicantIncome']\n",
    "    df['DualIncome_IO'] = df.apply(lambda x: dual_income_dummy(x), axis=1)\n",
    "    col_drop.extend(['ApplicantIncome', 'CoapplicantIncome'])\n",
    "    \n",
    "    # PROPERTY AREA #\n",
    "    df['PA_Urban'] = df['Property_Area'].apply(lambda x: 1 if x == 'Urban' else 0)\n",
    "    df['PA_Rural'] = df['Property_Area'].apply(lambda x: 1 if x == 'Rural' else 0)\n",
    "    df['PA_Semiurban'] = df['Property_Area'].apply(lambda x: 1 if x == 'Semiurban' else 0)\n",
    "    col_drop.append('Property_Area')\n",
    "    \n",
    "    # INCOME PER FAMILY MEMBER #\n",
    "    df['IncomePerMember'] = df['FamilyIncome'] / df['FamilySize']\n",
    "    \n",
    "    #column cleaning\n",
    "    df.drop(columns = col_drop, inplace=True)\n",
    "    df.rename(columns=col_rename, inplace=True)\n",
    "    return df"
   ]
  },
  {
   "cell_type": "code",
   "execution_count": 10,
   "metadata": {},
   "outputs": [],
   "source": [
    "train_clean = clean(train)\n",
    "test_clean = clean(test)"
   ]
  },
  {
   "cell_type": "markdown",
   "metadata": {},
   "source": [
    "Build Loan Term Amount model and use to impute"
   ]
  },
  {
   "cell_type": "code",
   "execution_count": 11,
   "metadata": {},
   "outputs": [],
   "source": [
    "def loan_group(x):\n",
    "    if np.isnan(x):\n",
    "        return x\n",
    "    else:\n",
    "        x = int(x)\n",
    "        if x == 360:\n",
    "            return '30'\n",
    "        elif x == 180:\n",
    "            return '15'\n",
    "        elif x < 180:\n",
    "            return '<15'\n",
    "        elif x > 180 and x < 360:\n",
    "            return '(15, 30)'\n",
    "        elif x > 360:\n",
    "            return '>30'\n",
    "        else:\n",
    "            return x"
   ]
  },
  {
   "cell_type": "code",
   "execution_count": 12,
   "metadata": {},
   "outputs": [],
   "source": [
    "def knn_model(train, x_cols, y, k, type='class'):\n",
    "    if type=='class':\n",
    "        model = KNN_Class(n_neighbors = k)\n",
    "    else:\n",
    "        model = KNN_Reg(n_neighbors = k)\n",
    "        \n",
    "    x = train[x_cols]\n",
    "    \n",
    "    model.fit(x, train[y])\n",
    "    return model"
   ]
  },
  {
   "cell_type": "code",
   "execution_count": 13,
   "metadata": {},
   "outputs": [],
   "source": [
    "def predict_func(model, row, x_cols):\n",
    "    valueList = []\n",
    "    for col in x_cols:\n",
    "        value = row[col]\n",
    "        valueList.append(value)\n",
    "\n",
    "    df = pd.DataFrame([valueList])\n",
    "    \n",
    "    prediction = model.predict(df)[0]\n",
    "    return prediction"
   ]
  },
  {
   "cell_type": "code",
   "execution_count": 14,
   "metadata": {},
   "outputs": [],
   "source": [
    "def clean2(df, model, cols):\n",
    "    #group loan terms, don't change nan values\n",
    "    df['LoanTermGroups'] = df['Loan_Amount_Term'].apply(lambda x: loan_group(x))\n",
    "    \n",
    "    #create predictions using model\n",
    "    df['LTA_Predict'] = df.apply(lambda x: predict_func(model, x, cols), axis=1)\n",
    "    \n",
    "    #replace missing values from loan term groups with predicted values\n",
    "    df['LoanTermGroups'].fillna(df['LTA_Predict'], inplace=True)\n",
    "    \n",
    "    df.drop(columns = ['Loan_Amount_Term', 'LTA_Predict'], inplace=True)\n",
    "    return df"
   ]
  },
  {
   "cell_type": "code",
   "execution_count": 15,
   "metadata": {},
   "outputs": [],
   "source": [
    "train_LTA = train_clean.dropna(subset = ['Self_Employed', 'LoanAmount', 'Loan_Amount_Term', 'Credit_History'])\n",
    "train_LTA['LoanTermGroups'] = train_LTA['Loan_Amount_Term'].apply(lambda x: loan_group(x))\n",
    "\n",
    "LTA_knn_cols = ['IncomePerMember', 'FamilyIncome']\n",
    "LTA_k = 7"
   ]
  },
  {
   "cell_type": "code",
   "execution_count": 16,
   "metadata": {},
   "outputs": [],
   "source": [
    "LTA_model = knn_model(train_LTA, LTA_knn_cols, 'LoanTermGroups', LTA_k)"
   ]
  },
  {
   "cell_type": "code",
   "execution_count": 17,
   "metadata": {},
   "outputs": [],
   "source": [
    "train_clean2 = clean2(train_clean, LTA_model, LTA_knn_cols)\n",
    "test_clean2 = clean2(test_clean, LTA_model, LTA_knn_cols)"
   ]
  },
  {
   "cell_type": "markdown",
   "metadata": {},
   "source": [
    "Build Loan Amount model and use to impute"
   ]
  },
  {
   "cell_type": "code",
   "execution_count": 18,
   "metadata": {},
   "outputs": [],
   "source": [
    "train_LA = train_clean2.dropna(subset=['Self_Employed', 'LoanAmount', 'Credit_History'])\n",
    "train_LA['LoanAmountLog'] = np.log(train_LA['LoanAmount'].astype('float64'))\n",
    "train_LA['LTG_<15'] = train_LA['LoanTermGroups'].apply(lambda x: 1 if x == '<15' else 0)\n",
    "train_LA['LTG_15'] = train_LA['LoanTermGroups'].apply(lambda x: 1 if x == '15' else 0)\n",
    "train_LA['LTG_1530'] = train_LA['LoanTermGroups'].apply(lambda x: 1 if x == '(15, 30)' else 0)\n",
    "train_LA['LTG_30'] = train_LA['LoanTermGroups'].apply(lambda x: 1 if x == '30' else 0)\n",
    "train_LA['LTG_>30'] = train_LA['LoanTermGroups'].apply(lambda x: 1 if x == '>30' else 0)\n",
    "\n",
    "LA_knn_cols = ['FamilyIncome', 'LTG_<15', 'LTG_15', 'LTG_1530', 'LTG_30']\n",
    "LA_k = 52"
   ]
  },
  {
   "cell_type": "code",
   "execution_count": 19,
   "metadata": {},
   "outputs": [],
   "source": [
    "def clean3(df, model, cols):\n",
    "    #convert loan amount to log\n",
    "    df['LoanAmountLog'] = np.log(df['LoanAmount'].astype('float64'))\n",
    "    \n",
    "    #create dummy vars for loan term group\n",
    "    df['LTG_<15'] = df['LoanTermGroups'].apply(lambda x: 1 if x == '<15' else 0)\n",
    "    df['LTG_15'] = df['LoanTermGroups'].apply(lambda x: 1 if x == '15' else 0)\n",
    "    df['LTG_1530'] = df['LoanTermGroups'].apply(lambda x: 1 if x == '(15, 30)' else 0)\n",
    "    df['LTG_30'] = df['LoanTermGroups'].apply(lambda x: 1 if x == '30' else 0)\n",
    "    df['LTG_>30'] = df['LoanTermGroups'].apply(lambda x: 1 if x == '>30' else 0)\n",
    "    \n",
    "    #predict using model\n",
    "    df['LA_Predict'] = df.apply(lambda x: predict_func(model, x, cols), axis=1)\n",
    "    \n",
    "    #replace missing values with predicted values\n",
    "    df['LoanAmountLog'].fillna(df['LA_Predict'], inplace=True)\n",
    "    \n",
    "    #drop original loan amount column and convert logged back to normal\n",
    "    df.drop(columns=['LoanAmount', 'LA_Predict'], inplace=True)\n",
    "    df['LoanAmount'] = np.exp(df['LoanAmountLog'])\n",
    "    df.drop(columns=['LoanAmountLog'], inplace=True)\n",
    "    \n",
    "    #create debt/equity variables\n",
    "    df['Debt_Equity'] = (df['LoanAmount'] * 1000) / df['FamilyIncome']\n",
    "    \n",
    "    return df"
   ]
  },
  {
   "cell_type": "code",
   "execution_count": 20,
   "metadata": {},
   "outputs": [],
   "source": [
    "LA_model = knn_model(train_LA, LA_knn_cols, 'LoanAmountLog', LA_k, type='reg')"
   ]
  },
  {
   "cell_type": "code",
   "execution_count": 21,
   "metadata": {},
   "outputs": [],
   "source": [
    "def predict_func(model, row, x_cols):\n",
    "    valueList = []\n",
    "    for col in x_cols:\n",
    "        value = row[col]\n",
    "        valueList.append(value)\n",
    "    \n",
    "    df = pd.DataFrame([valueList])\n",
    "\n",
    "    prediction = model.predict(df)[0]\n",
    "    return prediction"
   ]
  },
  {
   "cell_type": "code",
   "execution_count": 22,
   "metadata": {},
   "outputs": [],
   "source": [
    "train_clean3 = clean3(train_clean2, LA_model, LA_knn_cols)\n",
    "test_clean3 = clean3(test_clean2, LA_model, LA_knn_cols)"
   ]
  },
  {
   "cell_type": "code",
   "execution_count": 23,
   "metadata": {},
   "outputs": [
    {
     "data": {
      "text/plain": [
       "Self_Employed     32\n",
       "Credit_History    50\n",
       "dtype: int64"
      ]
     },
     "execution_count": 23,
     "metadata": {},
     "output_type": "execute_result"
    }
   ],
   "source": [
    "nans = train_clean3.isna().sum()\n",
    "nans = nans.loc[nans > 0]\n",
    "nans"
   ]
  },
  {
   "cell_type": "markdown",
   "metadata": {},
   "source": [
    "***\n",
    "### Self Employed Imputation"
   ]
  },
  {
   "cell_type": "code",
   "execution_count": 24,
   "metadata": {},
   "outputs": [
    {
     "data": {
      "text/plain": [
       "array(['No', 'Yes', nan], dtype=object)"
      ]
     },
     "execution_count": 24,
     "metadata": {},
     "output_type": "execute_result"
    }
   ],
   "source": [
    "train_clean3['Self_Employed'].unique()"
   ]
  },
  {
   "cell_type": "code",
   "execution_count": 25,
   "metadata": {},
   "outputs": [],
   "source": [
    "train_SE = train_clean3.dropna(subset = ['Self_Employed', 'Credit_History'])\n",
    "test_SE = test_clean3.dropna(subset = ['Self_Employed', 'Credit_History'])"
   ]
  },
  {
   "cell_type": "code",
   "execution_count": 26,
   "metadata": {},
   "outputs": [
    {
     "data": {
      "image/png": "[encoded data removed]",
      "text/plain": [
       "<Figure size 720x936 with 5 Axes>"
      ]
     },
     "metadata": {
      "needs_background": "light"
     },
     "output_type": "display_data"
    }
   ],
   "source": [
    "fig = plt.figure(figsize=(10,13))\n",
    "ax1 = fig.add_subplot(3,2,1)\n",
    "sns.boxplot(train_SE['Self_Employed'], train_SE['LoanAmount']);\n",
    "\n",
    "ax2 = fig.add_subplot(3,2,2)\n",
    "sns.boxplot(train_SE['Self_Employed'], train_SE['FamilyIncome']);\n",
    "\n",
    "ax3 = fig.add_subplot(3,2,3)\n",
    "sns.boxplot(train_SE['Self_Employed'], train_SE['IncomePerMember']);\n",
    "\n",
    "ax4 = fig.add_subplot(3,2,4)\n",
    "sns.boxplot(train_SE['Self_Employed'], train_SE['FamilySize']);\n",
    "\n",
    "ax5 = fig.add_subplot(3,2,5)\n",
    "sns.boxplot(train_SE['Self_Employed'], train_SE['Debt_Equity']);"
   ]
  },
  {
   "cell_type": "code",
   "execution_count": 53,
   "metadata": {},
   "outputs": [],
   "source": [
    "def knn(train, test, x_cols, y, mode):\n",
    "    x_train = train[x_cols]\n",
    "    y_train = train[y]\n",
    "    x_test = test[x_cols]\n",
    "    y_test = test[y]\n",
    "    \n",
    "    #determine best k value\n",
    "    hyperparameters = dict(n_neighbors = list(range(2,50)))\n",
    "    knn_cv = KNN_Class()\n",
    "    models = gscv(knn_cv, hyperparameters, cv=10)\n",
    "    best_model = models.fit(x_train, y_train)\n",
    "    k = best_model.best_estimator_.get_params()['n_neighbors']\n",
    "    print('Optimized K:  {}'.format(k))\n",
    "    \n",
    "    #fit model\n",
    "    model = KNN_Class(n_neighbors = k)\n",
    "    model.fit(x_train, y_train)\n",
    "    \n",
    "    ### training set ###\n",
    "    print(' *** Training ***')\n",
    "    trainPreds = model.predict(x_train)\n",
    "    trainPredictions = pd.DataFrame(trainPreds, columns = ['Predicted'])\n",
    "    print(trainPredictions['Predicted'].value_counts())\n",
    "    y_train.reset_index(drop=True, inplace=True)\n",
    "    trainPredictions.reset_index(drop=True, inplace=True)\n",
    "    trainAccDF = pd.concat((y_train, trainPredictions), axis=1)\n",
    "    trainAccDF['Right'] = trainAccDF.apply(lambda x: 1 if x[y] == x['Predicted'] else 0, axis=1)\n",
    "    trainAcc = trainAccDF['Right'].sum() / len(trainAccDF)\n",
    "    print('\\nTraining Accuracy:  {:.2f}%'.format(trainAcc * 100.0))\n",
    "    \n",
    "    trainBench = len(trainAccDF.loc[trainAccDF[y] == mode]) / len(trainAccDF)\n",
    "    print('\\n', 'Accuracy if selected mode ({}):  {:.2f}%'.format(mode, trainBench * 100.0))\n",
    "    ### training set ###\n",
    "    \n",
    "    print('\\n---------------------------------------------------\\n')\n",
    "    \n",
    "    ### testing set ###\n",
    "    print(' *** Testing *** ')\n",
    "    testPreds = model.predict(x_test)\n",
    "    testPredictions = pd.DataFrame(testPreds, columns=['Predicted'])\n",
    "    print(testPredictions['Predicted'].value_counts())\n",
    "    y_test.reset_index(drop=True, inplace=True)\n",
    "    testPredictions.reset_index(drop=True, inplace=True)\n",
    "    testAccDF = pd.concat((y_test, testPredictions), axis=1)\n",
    "    testAccDF['Right'] = testAccDF.apply(lambda x: 1 if x[y] == x['Predicted'] else 0, axis=1)\n",
    "    testAcc = testAccDF['Right'].sum() / len(testAccDF)\n",
    "    print('Testing Accuracy:  {:.2f}%'.format(testAcc * 100.0))\n",
    "    \n",
    "    testBench = len(testAccDF.loc[testAccDF[y] == mode]) / len(testAccDF)\n",
    "    \n",
    "    print('\\n', 'Accuracy if selected mode ({}):  {:.2f}%'.format(mode, testBench * 100.0))\n",
    "    ### testing set ###\n",
    "    \n",
    "    return model"
   ]
  },
  {
   "cell_type": "code",
   "execution_count": 28,
   "metadata": {},
   "outputs": [
    {
     "name": "stdout",
     "output_type": "stream",
     "text": [
      "Optimized K:  2\n",
      " *** Training ***\n",
      "No    538\n",
      "Name: Predicted, dtype: int64\n",
      "\n",
      "Training Accuracy:  86.06%\n",
      "\n",
      " Accuracy if selected mode (No):  86.06%\n",
      "\n",
      "---------------------------------------------------\n",
      "\n",
      " *** Testing *** \n",
      "No    316\n",
      "Name: Predicted, dtype: int64\n",
      "Testing Accuracy:  88.92%\n",
      "\n",
      " Accuracy if selected mode (No):  88.92%\n"
     ]
    }
   ],
   "source": [
    "knn(train_SE, test_SE, ['Credit_History'], 'Self_Employed', 'No')"
   ]
  },
  {
   "cell_type": "code",
   "execution_count": 29,
   "metadata": {},
   "outputs": [
    {
     "name": "stdout",
     "output_type": "stream",
     "text": [
      "Optimized K:  2\n",
      " *** Training ***\n",
      "No    538\n",
      "Name: Predicted, dtype: int64\n",
      "\n",
      "Training Accuracy:  86.06%\n",
      "\n",
      " Accuracy if selected mode (No):  86.06%\n",
      "\n",
      "---------------------------------------------------\n",
      "\n",
      " *** Testing *** \n",
      "No    316\n",
      "Name: Predicted, dtype: int64\n",
      "Testing Accuracy:  88.92%\n",
      "\n",
      " Accuracy if selected mode (No):  88.92%\n"
     ]
    }
   ],
   "source": [
    "knn(train_SE, test_SE, ['Male_IO'], 'Self_Employed', 'No')"
   ]
  },
  {
   "cell_type": "code",
   "execution_count": 30,
   "metadata": {},
   "outputs": [
    {
     "name": "stdout",
     "output_type": "stream",
     "text": [
      "Optimized K:  4\n",
      " *** Training ***\n",
      "No    538\n",
      "Name: Predicted, dtype: int64\n",
      "\n",
      "Training Accuracy:  86.06%\n",
      "\n",
      " Accuracy if selected mode (No):  86.06%\n",
      "\n",
      "---------------------------------------------------\n",
      "\n",
      " *** Testing *** \n",
      "No    316\n",
      "Name: Predicted, dtype: int64\n",
      "Testing Accuracy:  88.92%\n",
      "\n",
      " Accuracy if selected mode (No):  88.92%\n"
     ]
    }
   ],
   "source": [
    "knn(train_SE, test_SE, ['Married_IO'], 'Self_Employed', 'No')"
   ]
  },
  {
   "cell_type": "code",
   "execution_count": 31,
   "metadata": {},
   "outputs": [
    {
     "name": "stdout",
     "output_type": "stream",
     "text": [
      "Optimized K:  2\n",
      " *** Training ***\n",
      "Yes    321\n",
      "No     217\n",
      "Name: Predicted, dtype: int64\n",
      "\n",
      "Training Accuracy:  40.52%\n",
      "\n",
      " Accuracy if selected mode (No):  86.06%\n",
      "\n",
      "---------------------------------------------------\n",
      "\n",
      " *** Testing *** \n",
      "Yes    192\n",
      "No     124\n",
      "Name: Predicted, dtype: int64\n",
      "Testing Accuracy:  41.46%\n",
      "\n",
      " Accuracy if selected mode (No):  88.92%\n"
     ]
    }
   ],
   "source": [
    "knn(train_SE, test_SE, ['FamilySize'], 'Self_Employed', 'No')"
   ]
  },
  {
   "cell_type": "code",
   "execution_count": 32,
   "metadata": {},
   "outputs": [
    {
     "name": "stdout",
     "output_type": "stream",
     "text": [
      "Optimized K:  12\n",
      " *** Training ***\n",
      "No    538\n",
      "Name: Predicted, dtype: int64\n",
      "\n",
      "Training Accuracy:  86.06%\n",
      "\n",
      " Accuracy if selected mode (No):  86.06%\n",
      "\n",
      "---------------------------------------------------\n",
      "\n",
      " *** Testing *** \n",
      "No    316\n",
      "Name: Predicted, dtype: int64\n",
      "Testing Accuracy:  88.92%\n",
      "\n",
      " Accuracy if selected mode (No):  88.92%\n"
     ]
    }
   ],
   "source": [
    "knn(train_SE, test_SE, ['Education_IO'], 'Self_Employed', 'No')"
   ]
  },
  {
   "cell_type": "code",
   "execution_count": 33,
   "metadata": {},
   "outputs": [
    {
     "name": "stdout",
     "output_type": "stream",
     "text": [
      "Optimized K:  6\n",
      " *** Training ***\n",
      "No     523\n",
      "Yes     15\n",
      "Name: Predicted, dtype: int64\n",
      "\n",
      "Training Accuracy:  87.73%\n",
      "\n",
      " Accuracy if selected mode (No):  86.06%\n",
      "\n",
      "---------------------------------------------------\n",
      "\n",
      " *** Testing *** \n",
      "No     312\n",
      "Yes      4\n",
      "Name: Predicted, dtype: int64\n",
      "Testing Accuracy:  87.66%\n",
      "\n",
      " Accuracy if selected mode (No):  88.92%\n"
     ]
    }
   ],
   "source": [
    "knn(train_SE, test_SE, ['FamilyIncome'], 'Self_Employed', 'No')"
   ]
  },
  {
   "cell_type": "code",
   "execution_count": 34,
   "metadata": {},
   "outputs": [
    {
     "name": "stdout",
     "output_type": "stream",
     "text": [
      "Optimized K:  2\n",
      " *** Training ***\n",
      "No    538\n",
      "Name: Predicted, dtype: int64\n",
      "\n",
      "Training Accuracy:  86.06%\n",
      "\n",
      " Accuracy if selected mode (No):  86.06%\n",
      "\n",
      "---------------------------------------------------\n",
      "\n",
      " *** Testing *** \n",
      "No    316\n",
      "Name: Predicted, dtype: int64\n",
      "Testing Accuracy:  88.92%\n",
      "\n",
      " Accuracy if selected mode (No):  88.92%\n"
     ]
    }
   ],
   "source": [
    "knn(train_SE, test_SE, ['DualIncome_IO'], 'Self_Employed', 'No')"
   ]
  },
  {
   "cell_type": "code",
   "execution_count": 35,
   "metadata": {},
   "outputs": [
    {
     "name": "stdout",
     "output_type": "stream",
     "text": [
      "Optimized K:  4\n",
      " *** Training ***\n",
      "No    538\n",
      "Name: Predicted, dtype: int64\n",
      "\n",
      "Training Accuracy:  86.06%\n",
      "\n",
      " Accuracy if selected mode (No):  86.06%\n",
      "\n",
      "---------------------------------------------------\n",
      "\n",
      " *** Testing *** \n",
      "No    316\n",
      "Name: Predicted, dtype: int64\n",
      "Testing Accuracy:  88.92%\n",
      "\n",
      " Accuracy if selected mode (No):  88.92%\n"
     ]
    }
   ],
   "source": [
    "knn(train_SE, test_SE, ['PA_Urban', 'PA_Rural'], 'Self_Employed', 'No')"
   ]
  },
  {
   "cell_type": "code",
   "execution_count": 36,
   "metadata": {},
   "outputs": [
    {
     "name": "stdout",
     "output_type": "stream",
     "text": [
      "Optimized K:  12\n",
      " *** Training ***\n",
      "No    538\n",
      "Name: Predicted, dtype: int64\n",
      "\n",
      "Training Accuracy:  86.06%\n",
      "\n",
      " Accuracy if selected mode (No):  86.06%\n",
      "\n",
      "---------------------------------------------------\n",
      "\n",
      " *** Testing *** \n",
      "No    316\n",
      "Name: Predicted, dtype: int64\n",
      "Testing Accuracy:  88.92%\n",
      "\n",
      " Accuracy if selected mode (No):  88.92%\n"
     ]
    }
   ],
   "source": [
    "knn(train_SE, test_SE, ['IncomePerMember'], 'Self_Employed', 'No')"
   ]
  },
  {
   "cell_type": "code",
   "execution_count": 37,
   "metadata": {},
   "outputs": [
    {
     "name": "stdout",
     "output_type": "stream",
     "text": [
      "Optimized K:  6\n",
      " *** Training ***\n",
      "No    538\n",
      "Name: Predicted, dtype: int64\n",
      "\n",
      "Training Accuracy:  86.06%\n",
      "\n",
      " Accuracy if selected mode (No):  86.06%\n",
      "\n",
      "---------------------------------------------------\n",
      "\n",
      " *** Testing *** \n",
      "No    316\n",
      "Name: Predicted, dtype: int64\n",
      "Testing Accuracy:  88.92%\n",
      "\n",
      " Accuracy if selected mode (No):  88.92%\n"
     ]
    }
   ],
   "source": [
    "knn(train_SE, test_SE, ['LTG_<15', 'LTG_15', 'LTG_1530', 'LTG_30', 'LTG_>30'], 'Self_Employed', 'No')"
   ]
  },
  {
   "cell_type": "code",
   "execution_count": 38,
   "metadata": {},
   "outputs": [
    {
     "name": "stdout",
     "output_type": "stream",
     "text": [
      "Optimized K:  10\n",
      " *** Training ***\n",
      "No    538\n",
      "Name: Predicted, dtype: int64\n",
      "\n",
      "Training Accuracy:  86.06%\n",
      "\n",
      " Accuracy if selected mode (No):  86.06%\n",
      "\n",
      "---------------------------------------------------\n",
      "\n",
      " *** Testing *** \n",
      "No    316\n",
      "Name: Predicted, dtype: int64\n",
      "Testing Accuracy:  88.92%\n",
      "\n",
      " Accuracy if selected mode (No):  88.92%\n"
     ]
    }
   ],
   "source": [
    "knn(train_SE, test_SE, ['Debt_Equity'], 'Self_Employed', 'No')"
   ]
  },
  {
   "cell_type": "code",
   "execution_count": 39,
   "metadata": {},
   "outputs": [
    {
     "name": "stdout",
     "output_type": "stream",
     "text": [
      "Optimized K:  8\n",
      " *** Training ***\n",
      "No    538\n",
      "Name: Predicted, dtype: int64\n",
      "\n",
      "Training Accuracy:  86.06%\n",
      "\n",
      " Accuracy if selected mode (No):  86.06%\n",
      "\n",
      "---------------------------------------------------\n",
      "\n",
      " *** Testing *** \n",
      "No    316\n",
      "Name: Predicted, dtype: int64\n",
      "Testing Accuracy:  88.92%\n",
      "\n",
      " Accuracy if selected mode (No):  88.92%\n"
     ]
    }
   ],
   "source": [
    "knn(train_SE, test_SE, ['LoanAmount'], 'Self_Employed', 'No')"
   ]
  },
  {
   "cell_type": "markdown",
   "metadata": {},
   "source": [
    "FamilyIncome is the only model that improved on the accuracy (didn't choose only No).  Look to try adding another variable, but likely won't matter."
   ]
  },
  {
   "cell_type": "code",
   "execution_count": 40,
   "metadata": {},
   "outputs": [
    {
     "name": "stdout",
     "output_type": "stream",
     "text": [
      "Optimized K:  6\n",
      " *** Training ***\n",
      "No     523\n",
      "Yes     15\n",
      "Name: Predicted, dtype: int64\n",
      "\n",
      "Training Accuracy:  87.73%\n",
      "\n",
      " Accuracy if selected mode (No):  86.06%\n",
      "\n",
      "---------------------------------------------------\n",
      "\n",
      " *** Testing *** \n",
      "No     312\n",
      "Yes      4\n",
      "Name: Predicted, dtype: int64\n",
      "Testing Accuracy:  87.66%\n",
      "\n",
      " Accuracy if selected mode (No):  88.92%\n"
     ]
    }
   ],
   "source": [
    "knn(train_SE, test_SE, ['FamilyIncome'], 'Self_Employed', 'No')"
   ]
  },
  {
   "cell_type": "code",
   "execution_count": 41,
   "metadata": {},
   "outputs": [
    {
     "name": "stdout",
     "output_type": "stream",
     "text": [
      "Optimized K:  6\n",
      " *** Training ***\n",
      "No     523\n",
      "Yes     15\n",
      "Name: Predicted, dtype: int64\n",
      "\n",
      "Training Accuracy:  87.73%\n",
      "\n",
      " Accuracy if selected mode (No):  86.06%\n",
      "\n",
      "---------------------------------------------------\n",
      "\n",
      " *** Testing *** \n",
      "No     312\n",
      "Yes      4\n",
      "Name: Predicted, dtype: int64\n",
      "Testing Accuracy:  87.66%\n",
      "\n",
      " Accuracy if selected mode (No):  88.92%\n"
     ]
    }
   ],
   "source": [
    "knn(train_SE, test_SE, ['FamilyIncome', 'Credit_History'], 'Self_Employed', 'No')"
   ]
  },
  {
   "cell_type": "code",
   "execution_count": 42,
   "metadata": {},
   "outputs": [
    {
     "name": "stdout",
     "output_type": "stream",
     "text": [
      "Optimized K:  6\n",
      " *** Training ***\n",
      "No     523\n",
      "Yes     15\n",
      "Name: Predicted, dtype: int64\n",
      "\n",
      "Training Accuracy:  87.73%\n",
      "\n",
      " Accuracy if selected mode (No):  86.06%\n",
      "\n",
      "---------------------------------------------------\n",
      "\n",
      " *** Testing *** \n",
      "No     312\n",
      "Yes      4\n",
      "Name: Predicted, dtype: int64\n",
      "Testing Accuracy:  87.66%\n",
      "\n",
      " Accuracy if selected mode (No):  88.92%\n"
     ]
    }
   ],
   "source": [
    "knn(train_SE, test_SE, ['FamilyIncome', 'Male_IO'], 'Self_Employed', 'No')"
   ]
  },
  {
   "cell_type": "code",
   "execution_count": 43,
   "metadata": {},
   "outputs": [
    {
     "name": "stdout",
     "output_type": "stream",
     "text": [
      "Optimized K:  6\n",
      " *** Training ***\n",
      "No     523\n",
      "Yes     15\n",
      "Name: Predicted, dtype: int64\n",
      "\n",
      "Training Accuracy:  87.73%\n",
      "\n",
      " Accuracy if selected mode (No):  86.06%\n",
      "\n",
      "---------------------------------------------------\n",
      "\n",
      " *** Testing *** \n",
      "No     312\n",
      "Yes      4\n",
      "Name: Predicted, dtype: int64\n",
      "Testing Accuracy:  87.66%\n",
      "\n",
      " Accuracy if selected mode (No):  88.92%\n"
     ]
    }
   ],
   "source": [
    "knn(train_SE, test_SE, ['FamilyIncome', 'Married_IO'], 'Self_Employed', 'No')"
   ]
  },
  {
   "cell_type": "code",
   "execution_count": 44,
   "metadata": {},
   "outputs": [
    {
     "name": "stdout",
     "output_type": "stream",
     "text": [
      "Optimized K:  6\n",
      " *** Training ***\n",
      "No     523\n",
      "Yes     15\n",
      "Name: Predicted, dtype: int64\n",
      "\n",
      "Training Accuracy:  87.73%\n",
      "\n",
      " Accuracy if selected mode (No):  86.06%\n",
      "\n",
      "---------------------------------------------------\n",
      "\n",
      " *** Testing *** \n",
      "No     312\n",
      "Yes      4\n",
      "Name: Predicted, dtype: int64\n",
      "Testing Accuracy:  87.66%\n",
      "\n",
      " Accuracy if selected mode (No):  88.92%\n"
     ]
    }
   ],
   "source": [
    "knn(train_SE, test_SE, ['FamilyIncome', 'FamilySize'], 'Self_Employed', 'No')"
   ]
  },
  {
   "cell_type": "code",
   "execution_count": 45,
   "metadata": {},
   "outputs": [
    {
     "name": "stdout",
     "output_type": "stream",
     "text": [
      "Optimized K:  6\n",
      " *** Training ***\n",
      "No     523\n",
      "Yes     15\n",
      "Name: Predicted, dtype: int64\n",
      "\n",
      "Training Accuracy:  87.73%\n",
      "\n",
      " Accuracy if selected mode (No):  86.06%\n",
      "\n",
      "---------------------------------------------------\n",
      "\n",
      " *** Testing *** \n",
      "No     312\n",
      "Yes      4\n",
      "Name: Predicted, dtype: int64\n",
      "Testing Accuracy:  87.66%\n",
      "\n",
      " Accuracy if selected mode (No):  88.92%\n"
     ]
    }
   ],
   "source": [
    "knn(train_SE, test_SE, ['FamilyIncome', 'Education_IO'], 'Self_Employed', 'No')"
   ]
  },
  {
   "cell_type": "code",
   "execution_count": 46,
   "metadata": {},
   "outputs": [
    {
     "name": "stdout",
     "output_type": "stream",
     "text": [
      "Optimized K:  6\n",
      " *** Training ***\n",
      "No     523\n",
      "Yes     15\n",
      "Name: Predicted, dtype: int64\n",
      "\n",
      "Training Accuracy:  87.73%\n",
      "\n",
      " Accuracy if selected mode (No):  86.06%\n",
      "\n",
      "---------------------------------------------------\n",
      "\n",
      " *** Testing *** \n",
      "No     312\n",
      "Yes      4\n",
      "Name: Predicted, dtype: int64\n",
      "Testing Accuracy:  87.66%\n",
      "\n",
      " Accuracy if selected mode (No):  88.92%\n"
     ]
    }
   ],
   "source": [
    "knn(train_SE, test_SE, ['FamilyIncome', 'DualIncome_IO'], 'Self_Employed', 'No')"
   ]
  },
  {
   "cell_type": "code",
   "execution_count": 47,
   "metadata": {},
   "outputs": [
    {
     "name": "stdout",
     "output_type": "stream",
     "text": [
      "Optimized K:  6\n",
      " *** Training ***\n",
      "No     523\n",
      "Yes     15\n",
      "Name: Predicted, dtype: int64\n",
      "\n",
      "Training Accuracy:  87.73%\n",
      "\n",
      " Accuracy if selected mode (No):  86.06%\n",
      "\n",
      "---------------------------------------------------\n",
      "\n",
      " *** Testing *** \n",
      "No     312\n",
      "Yes      4\n",
      "Name: Predicted, dtype: int64\n",
      "Testing Accuracy:  87.66%\n",
      "\n",
      " Accuracy if selected mode (No):  88.92%\n"
     ]
    }
   ],
   "source": [
    "knn(train_SE, test_SE, ['FamilyIncome', 'PA_Urban', 'PA_Rural'], 'Self_Employed', 'No')"
   ]
  },
  {
   "cell_type": "code",
   "execution_count": 48,
   "metadata": {},
   "outputs": [
    {
     "name": "stdout",
     "output_type": "stream",
     "text": [
      "Optimized K:  11\n",
      " *** Training ***\n",
      "No     523\n",
      "Yes     15\n",
      "Name: Predicted, dtype: int64\n",
      "\n",
      "Training Accuracy:  86.62%\n",
      "\n",
      " Accuracy if selected mode (No):  86.06%\n",
      "\n",
      "---------------------------------------------------\n",
      "\n",
      " *** Testing *** \n",
      "No     309\n",
      "Yes      7\n",
      "Name: Predicted, dtype: int64\n",
      "Testing Accuracy:  87.34%\n",
      "\n",
      " Accuracy if selected mode (No):  88.92%\n"
     ]
    }
   ],
   "source": [
    "knn(train_SE, test_SE, ['FamilyIncome', 'IncomePerMember'], 'Self_Employed', 'No')"
   ]
  },
  {
   "cell_type": "markdown",
   "metadata": {},
   "source": [
    "Slightly worse than FamilyIncome by itself"
   ]
  },
  {
   "cell_type": "code",
   "execution_count": 49,
   "metadata": {},
   "outputs": [
    {
     "name": "stdout",
     "output_type": "stream",
     "text": [
      "Optimized K:  6\n",
      " *** Training ***\n",
      "No     523\n",
      "Yes     15\n",
      "Name: Predicted, dtype: int64\n",
      "\n",
      "Training Accuracy:  87.73%\n",
      "\n",
      " Accuracy if selected mode (No):  86.06%\n",
      "\n",
      "---------------------------------------------------\n",
      "\n",
      " *** Testing *** \n",
      "No     312\n",
      "Yes      4\n",
      "Name: Predicted, dtype: int64\n",
      "Testing Accuracy:  87.66%\n",
      "\n",
      " Accuracy if selected mode (No):  88.92%\n"
     ]
    }
   ],
   "source": [
    "knn(train_SE, test_SE, ['FamilyIncome', 'LTG_<15', 'LTG_15', 'LTG_1530', 'LTG_30', 'LTG_>30'], 'Self_Employed', 'No')"
   ]
  },
  {
   "cell_type": "code",
   "execution_count": 50,
   "metadata": {},
   "outputs": [
    {
     "name": "stdout",
     "output_type": "stream",
     "text": [
      "Optimized K:  6\n",
      " *** Training ***\n",
      "No     523\n",
      "Yes     15\n",
      "Name: Predicted, dtype: int64\n",
      "\n",
      "Training Accuracy:  87.73%\n",
      "\n",
      " Accuracy if selected mode (No):  86.06%\n",
      "\n",
      "---------------------------------------------------\n",
      "\n",
      " *** Testing *** \n",
      "No     312\n",
      "Yes      4\n",
      "Name: Predicted, dtype: int64\n",
      "Testing Accuracy:  87.66%\n",
      "\n",
      " Accuracy if selected mode (No):  88.92%\n"
     ]
    }
   ],
   "source": [
    "knn(train_SE, test_SE, ['FamilyIncome', 'Debt_Equity'], 'Self_Employed', 'No')"
   ]
  },
  {
   "cell_type": "code",
   "execution_count": 51,
   "metadata": {},
   "outputs": [
    {
     "name": "stdout",
     "output_type": "stream",
     "text": [
      "Optimized K:  9\n",
      " *** Training ***\n",
      "No     514\n",
      "Yes     24\n",
      "Name: Predicted, dtype: int64\n",
      "\n",
      "Training Accuracy:  86.80%\n",
      "\n",
      " Accuracy if selected mode (No):  86.06%\n",
      "\n",
      "---------------------------------------------------\n",
      "\n",
      " *** Testing *** \n",
      "No     309\n",
      "Yes      7\n",
      "Name: Predicted, dtype: int64\n",
      "Testing Accuracy:  87.34%\n",
      "\n",
      " Accuracy if selected mode (No):  88.92%\n"
     ]
    }
   ],
   "source": [
    "knn(train_SE, test_SE, ['FamilyIncome', 'LoanAmount'], 'Self_Employed', 'No')"
   ]
  },
  {
   "cell_type": "markdown",
   "metadata": {},
   "source": [
    "Will use only FamilyIncome"
   ]
  },
  {
   "cell_type": "code",
   "execution_count": 52,
   "metadata": {},
   "outputs": [
    {
     "name": "stdout",
     "output_type": "stream",
     "text": [
      "C:\\Users\\joepo\\Desktop\\Project Portfolio\\Loan Prediction\\Credit History\n"
     ]
    }
   ],
   "source": [
    "import pickle\n",
    "direct = os.getcwd()\n",
    "print(direct)"
   ]
  },
  {
   "cell_type": "code",
   "execution_count": 54,
   "metadata": {},
   "outputs": [
    {
     "name": "stdout",
     "output_type": "stream",
     "text": [
      "Optimized K:  6\n",
      " *** Training ***\n",
      "No     523\n",
      "Yes     15\n",
      "Name: Predicted, dtype: int64\n",
      "\n",
      "Training Accuracy:  87.73%\n",
      "\n",
      " Accuracy if selected mode (No):  86.06%\n",
      "\n",
      "---------------------------------------------------\n",
      "\n",
      " *** Testing *** \n",
      "No     312\n",
      "Yes      4\n",
      "Name: Predicted, dtype: int64\n",
      "Testing Accuracy:  87.66%\n",
      "\n",
      " Accuracy if selected mode (No):  88.92%\n"
     ]
    }
   ],
   "source": [
    "m = knn(train_SE, test_SE, ['FamilyIncome'], 'Self_Employed', 'No')"
   ]
  },
  {
   "cell_type": "code",
   "execution_count": null,
   "metadata": {},
   "outputs": [],
   "source": []
  }
 ],
 "metadata": {
  "kernelspec": {
   "display_name": "Python 3",
   "language": "python",
   "name": "python3"
  },
  "language_info": {
   "codemirror_mode": {
    "name": "ipython",
    "version": 3
   },
   "file_extension": ".py",
   "mimetype": "text/x-python",
   "name": "python",
   "nbconvert_exporter": "python",
   "pygments_lexer": "ipython3",
   "version": "3.7.4"
  }
 },
 "nbformat": 4,
 "nbformat_minor": 2
}
