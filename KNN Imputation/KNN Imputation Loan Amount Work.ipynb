{
 "cells": [
  {
   "cell_type": "code",
   "execution_count": 40,
   "metadata": {},
   "outputs": [],
   "source": [
    "import requests\n",
    "import os\n",
    "import io\n",
    "import pandas as pd\n",
    "import numpy as np\n",
    "import matplotlib.pyplot as plt\n",
    "import seaborn as sns\n",
    "%matplotlib inline\n",
    "\n",
    "from sklearn.neighbors import KNeighborsClassifier as KNN_Class\n",
    "from sklearn.metrics import classification_report as rep\n",
    "from sklearn.model_selection import GridSearchCV as gscv\n",
    "from sklearn.metrics import mean_squared_error as mse\n",
    "from sklearn.neighbors import KNeighborsRegressor as KNN_Reg\n",
    "\n",
    "import warnings\n",
    "warnings.simplefilter(action='ignore')"
   ]
  },
  {
   "cell_type": "code",
   "execution_count": 41,
   "metadata": {},
   "outputs": [],
   "source": [
    "url = \"https://raw.githubusercontent.com/joepollastrini/Loan-Prediction/master\"\n",
    "train_name = 'train_loan_data.csv'\n",
    "test_name = 'test_loan_data.csv'"
   ]
  },
  {
   "cell_type": "code",
   "execution_count": 42,
   "metadata": {},
   "outputs": [],
   "source": [
    "def data_grab_online(base, name, out='output.csv'):\n",
    "    #get data from url\n",
    "    u = base + '/' + name\n",
    "    r = requests.get(u).content\n",
    "    df = pd.read_csv(u)\n",
    "    return df"
   ]
  },
  {
   "cell_type": "code",
   "execution_count": 43,
   "metadata": {},
   "outputs": [],
   "source": [
    "train = data_grab_online(url, train_name)\n",
    "test = data_grab_online(url, test_name)"
   ]
  },
  {
   "cell_type": "markdown",
   "metadata": {},
   "source": [
    "Clean like normal, don't clean anything that mode was used as imputation.  If any feature engineering was used from these imputed variables.  Keep them out until imputed."
   ]
  },
  {
   "cell_type": "code",
   "execution_count": 44,
   "metadata": {},
   "outputs": [],
   "source": [
    "def gender_impute_and_dummy(row):\n",
    "    #if unmarried and 1 dependent female, else male\n",
    "    if pd.isnull(row['Gender']):\n",
    "        if row['Married'] == 'No' and row['Dependents'] == '1':\n",
    "            return 0\n",
    "        else:\n",
    "            return 1\n",
    "    else:\n",
    "        if row['Gender'] == 'Male':\n",
    "            return 1\n",
    "        else:\n",
    "            return 0\n",
    "        \n",
    "train['Male_IO'] = train.apply(lambda x: gender_impute_and_dummy(x), axis=1)\n",
    "train.drop(columns = ['Gender'], inplace=True)\n",
    "\n",
    "test['Male_IO'] = test.apply(lambda x: gender_impute_and_dummy(x), axis=1)\n",
    "test.drop(columns = ['Gender'], inplace = True)"
   ]
  },
  {
   "cell_type": "code",
   "execution_count": 45,
   "metadata": {},
   "outputs": [],
   "source": [
    "def married_impute_and_dummy(x):\n",
    "    #if female, not married, otherwise married\n",
    "    if pd.isnull(x['Married']):\n",
    "        if x['Male_IO'] == 0:\n",
    "            return 0\n",
    "        else:\n",
    "            return 1\n",
    "    else:\n",
    "        if x['Married'] == 'Yes':\n",
    "            return 1\n",
    "        else:\n",
    "            return 0\n",
    "        \n",
    "train['Married_IO'] = train.apply(lambda x: married_impute_and_dummy(x), axis=1)\n",
    "train.drop(columns = ['Married'], inplace=True)\n",
    "\n",
    "test['Married_IO'] = test.apply(lambda x: married_impute_and_dummy(x), axis=1)\n",
    "test.drop(columns = ['Married'], inplace = True)"
   ]
  },
  {
   "cell_type": "code",
   "execution_count": 46,
   "metadata": {},
   "outputs": [],
   "source": [
    "def dependents_impute_and_ordinal(x):\n",
    "    #if married, one dependent, otherwise none\n",
    "    #convert dependents to ordinal int as well\n",
    "    if pd.isnull(x['Dependents']):\n",
    "        if x['Married_IO'] == 1:\n",
    "            return 1\n",
    "        else:\n",
    "            return 0\n",
    "    elif x['Dependents'] == '3+':\n",
    "        return 3\n",
    "    else:\n",
    "        return int(x['Dependents'])\n",
    "    \n",
    "    \n",
    "train['Dependents_Ord'] = train.apply(lambda x: dependents_impute_and_ordinal(x), axis=1)\n",
    "train.drop(columns = ['Dependents'], inplace=True)\n",
    "\n",
    "test['Dependents_Ord'] = test.apply(lambda x: dependents_impute_and_ordinal(x), axis=1)\n",
    "test.drop(columns = ['Dependents'], inplace = True)"
   ]
  },
  {
   "cell_type": "code",
   "execution_count": 47,
   "metadata": {},
   "outputs": [],
   "source": [
    "def dual_income_dummy(x):\n",
    "    if x['Married_IO'] == 1:\n",
    "        if x['CoapplicantIncome'] > 0:\n",
    "            return 1\n",
    "        else:\n",
    "            return 0\n",
    "    else:\n",
    "        return 0"
   ]
  },
  {
   "cell_type": "code",
   "execution_count": 48,
   "metadata": {},
   "outputs": [],
   "source": [
    "def clean(df):\n",
    "    col_drop = []\n",
    "    col_rename = {}\n",
    "    \n",
    "    # FAMILY SIZE #\n",
    "    df['FamilySize'] = df['Dependents_Ord'] + df['Married_IO'] + 1\n",
    "        \n",
    "    # EDUCATION #\n",
    "    df['Education_IO'] = df['Education'].apply(lambda x: 1 if x == 'Graduate' else 0)\n",
    "    col_drop.append('Education')\n",
    "\n",
    "    # INCOME #\n",
    "    df['FamilyIncome'] = df['ApplicantIncome'] + df['CoapplicantIncome']\n",
    "    df['DualIncome_IO'] = df.apply(lambda x: dual_income_dummy(x), axis=1)\n",
    "    col_drop.extend(['ApplicantIncome', 'CoapplicantIncome'])\n",
    "    \n",
    "    # PROPERTY AREA #\n",
    "    df['PA_Urban'] = df['Property_Area'].apply(lambda x: 1 if x == 'Urban' else 0)\n",
    "    df['PA_Rural'] = df['Property_Area'].apply(lambda x: 1 if x == 'Rural' else 0)\n",
    "    df['PA_Semiurban'] = df['Property_Area'].apply(lambda x: 1 if x == 'Semiurban' else 0)\n",
    "    col_drop.append('Property_Area')\n",
    "    \n",
    "    # INCOME PER FAMILY MEMBER #\n",
    "    df['IncomePerMember'] = df['FamilyIncome'] / df['FamilySize']\n",
    "    \n",
    "    #column cleaning\n",
    "    df.drop(columns = col_drop, inplace=True)\n",
    "    df.rename(columns=col_rename, inplace=True)\n",
    "    return df"
   ]
  },
  {
   "cell_type": "code",
   "execution_count": 49,
   "metadata": {},
   "outputs": [],
   "source": [
    "train_clean = clean(train)\n",
    "test_clean = clean(test)"
   ]
  },
  {
   "cell_type": "markdown",
   "metadata": {},
   "source": [
    "Build Loan Term Amount model and use to impute"
   ]
  },
  {
   "cell_type": "code",
   "execution_count": 50,
   "metadata": {},
   "outputs": [],
   "source": [
    "def loan_group(x):\n",
    "    if np.isnan(x):\n",
    "        return x\n",
    "    else:\n",
    "        x = int(x)\n",
    "        if x == 360:\n",
    "            return '30'\n",
    "        elif x == 180:\n",
    "            return '15'\n",
    "        elif x < 180:\n",
    "            return '<15'\n",
    "        elif x > 180 and x < 360:\n",
    "            return '(15, 30)'\n",
    "        elif x > 360:\n",
    "            return '>30'\n",
    "        else:\n",
    "            return x"
   ]
  },
  {
   "cell_type": "code",
   "execution_count": 51,
   "metadata": {},
   "outputs": [],
   "source": [
    "def knn_loan_term_model(train, x_cols, k):\n",
    "    model = KNN_Class(n_neighbors = k)\n",
    "    \n",
    "    x = train[x_cols]\n",
    "    y = train['LoanTermGroups']\n",
    "    \n",
    "    model.fit(x, y)\n",
    "    return model"
   ]
  },
  {
   "cell_type": "code",
   "execution_count": 52,
   "metadata": {},
   "outputs": [],
   "source": [
    "def LTA_predict(model, row, x_cols):\n",
    "    valueList = []\n",
    "    for col in x_cols:\n",
    "        value = row[col]\n",
    "        valueList.append(value)\n",
    "\n",
    "    df = pd.DataFrame([valueList])\n",
    "    \n",
    "    prediction = model.predict(df)[0]\n",
    "    return prediction"
   ]
  },
  {
   "cell_type": "code",
   "execution_count": 53,
   "metadata": {},
   "outputs": [],
   "source": [
    "def clean2(df, model):\n",
    "    #group loan terms, don't change nan values\n",
    "    df['LoanTermGroups'] = df['Loan_Amount_Term'].apply(lambda x: loan_group(x))\n",
    "    \n",
    "    #create predictions using model\n",
    "    df['LTA_Predict'] = df.apply(lambda x: LTA_predict(LTA_model, x, LTA_knn_cols), axis=1)\n",
    "    \n",
    "    #replace missing values from loan term groups with predicted values\n",
    "    df['LoanTermGroups'].fillna(df['LTA_Predict'], inplace=True)\n",
    "    \n",
    "    df.drop(columns = ['Loan_Amount_Term', 'LTA_Predict'], inplace=True)\n",
    "    return df"
   ]
  },
  {
   "cell_type": "code",
   "execution_count": 54,
   "metadata": {},
   "outputs": [],
   "source": [
    "train_LTA = train_clean.dropna(subset = ['Self_Employed', 'LoanAmount', 'Loan_Amount_Term', 'Credit_History'])\n",
    "train_LTA['LoanTermGroups'] = train_LTA['Loan_Amount_Term'].apply(lambda x: loan_group(x))\n",
    "\n",
    "LTA_knn_cols = ['IncomePerMember', 'FamilyIncome']\n",
    "LTA_k = 7"
   ]
  },
  {
   "cell_type": "code",
   "execution_count": 55,
   "metadata": {},
   "outputs": [],
   "source": [
    "LTA_model = knn_loan_term_model(train_LTA, LTA_knn_cols, LTA_k)"
   ]
  },
  {
   "cell_type": "code",
   "execution_count": 56,
   "metadata": {},
   "outputs": [],
   "source": [
    "train_clean2 = clean2(train_clean, LTA_model)\n",
    "test_clean2 = clean2(test_clean, LTA_model)"
   ]
  },
  {
   "cell_type": "code",
   "execution_count": null,
   "metadata": {},
   "outputs": [],
   "source": []
  },
  {
   "cell_type": "code",
   "execution_count": 57,
   "metadata": {},
   "outputs": [
    {
     "data": {
      "text/plain": [
       "Self_Employed     32\n",
       "LoanAmount        22\n",
       "Credit_History    50\n",
       "dtype: int64"
      ]
     },
     "execution_count": 57,
     "metadata": {},
     "output_type": "execute_result"
    }
   ],
   "source": [
    "nans = train_clean2.isna().sum()\n",
    "nans = nans.loc[nans > 0]\n",
    "nans"
   ]
  },
  {
   "cell_type": "markdown",
   "metadata": {},
   "source": [
    "***\n",
    "## Loan Amount Imputation"
   ]
  },
  {
   "cell_type": "code",
   "execution_count": 76,
   "metadata": {},
   "outputs": [],
   "source": [
    "train_LA = train_clean2.dropna(subset = ['Self_Employed', 'LoanAmount', 'Credit_History'])\n",
    "train_LA['LoanAmountLog'] = np.log(train_LA['LoanAmount'].astype('float64'))\n",
    "train_LA['Self_Employed_IO'] = train_LA['Self_Employed'].apply(lambda x: 1 if x=='Yes' else 0)\n",
    "train_LA['LTG_<15'] = train_LA['LoanTermGroups'].apply(lambda x: 1 if x == '<15' else 0)\n",
    "train_LA['LTG_15'] = train_LA['LoanTermGroups'].apply(lambda x: 1 if x == '15' else 0)\n",
    "train_LA['LTG_1530'] = train_LA['LoanTermGroups'].apply(lambda x: 1 if x == '(15, 30)' else 0)\n",
    "train_LA['LTG_30'] = train_LA['LoanTermGroups'].apply(lambda x: 1 if x == '30' else 0)\n",
    "train_LA['LTG_>30'] = train_LA['LoanTermGroups'].apply(lambda x: 1 if x == '>30' else 0)\n",
    "\n",
    "test_LA = test_clean2.dropna(subset = ['Self_Employed', 'LoanAmount', 'Credit_History'])\n",
    "test_LA['LoanAmountLog'] = np.log(test_LA['LoanAmount'].astype('float64'))\n",
    "test_LA['Self_Employed_IO'] = test_LA['Self_Employed'].apply(lambda x: 1 if x=='Yes' else 0)\n",
    "test_LA['LTG_<15'] = test_LA['LoanTermGroups'].apply(lambda x: 1 if x == '<15' else 0)\n",
    "test_LA['LTG_15'] = test_LA['LoanTermGroups'].apply(lambda x: 1 if x == '15' else 0)\n",
    "test_LA['LTG_1530'] = test_LA['LoanTermGroups'].apply(lambda x: 1 if x == '(15, 30)' else 0)\n",
    "test_LA['LTG_30'] = test_LA['LoanTermGroups'].apply(lambda x: 1 if x == '30' else 0)\n",
    "test_LA['LTG_>30'] = test_LA['LoanTermGroups'].apply(lambda x: 1 if x == '>30' else 0)"
   ]
  },
  {
   "cell_type": "markdown",
   "metadata": {},
   "source": [
    "## Method 1:\n",
    "replace nan values with mean for loan term group"
   ]
  },
  {
   "cell_type": "code",
   "execution_count": 77,
   "metadata": {},
   "outputs": [],
   "source": [
    "group = train_LA.groupby(['LoanTermGroups'])['LoanAmountLog'].mean().to_dict()"
   ]
  },
  {
   "cell_type": "code",
   "execution_count": 78,
   "metadata": {},
   "outputs": [
    {
     "name": "stdout",
     "output_type": "stream",
     "text": [
      "0.24806627646772436\n",
      "0.172010998369502\n"
     ]
    }
   ],
   "source": [
    "train_LA['M1 Pred'] = train_LA['LoanTermGroups'].apply(lambda x: group[x])\n",
    "test_LA['M1 Pred'] = test_LA['LoanTermGroups'].apply(lambda x: group[x])\n",
    "bench_train = mse(train_LA['LoanAmountLog'], train_LA['M1 Pred'])\n",
    "bench_test = mse(test_LA['LoanAmountLog'], test_LA['M1 Pred'])\n",
    "print(bench_train)\n",
    "print(bench_test)"
   ]
  },
  {
   "cell_type": "markdown",
   "metadata": {},
   "source": [
    "## Method 2:\n",
    "KNN Regression"
   ]
  },
  {
   "cell_type": "code",
   "execution_count": 79,
   "metadata": {},
   "outputs": [
    {
     "data": {
      "image/png": "[encoded data removed]",
      "text/plain": [
       "<Figure size 720x576 with 3 Axes>"
      ]
     },
     "metadata": {
      "needs_background": "light"
     },
     "output_type": "display_data"
    }
   ],
   "source": [
    "fig = plt.figure(figsize=(10,8))\n",
    "ax1 = fig.add_subplot(2,2,1)\n",
    "sns.scatterplot(train_LA['LoanAmountLog'], train_LA['FamilySize']);\n",
    "\n",
    "ax2 = fig.add_subplot(2,2,2)\n",
    "sns.scatterplot(train_LA['LoanAmountLog'], train_LA['FamilyIncome']);\n",
    "\n",
    "ax3 = fig.add_subplot(2,2,3)\n",
    "sns.scatterplot(train_LA['LoanAmountLog'], train_LA['IncomePerMember']);"
   ]
  },
  {
   "cell_type": "code",
   "execution_count": 80,
   "metadata": {},
   "outputs": [
    {
     "data": {
      "text/plain": [
       "KNeighborsRegressor(algorithm='auto', leaf_size=30, metric='minkowski',\n",
       "                    metric_params=None, n_jobs=None, n_neighbors=5, p=2,\n",
       "                    weights='uniform')"
      ]
     },
     "execution_count": 80,
     "metadata": {},
     "output_type": "execute_result"
    }
   ],
   "source": [
    "m2 = KNN_Reg(n_neighbors = 5)\n",
    "m2.fit(train_LA[['FamilyIncome']], train_LA['LoanAmountLog'])"
   ]
  },
  {
   "cell_type": "code",
   "execution_count": 81,
   "metadata": {},
   "outputs": [
    {
     "name": "stdout",
     "output_type": "stream",
     "text": [
      "0.11363727907628939\n"
     ]
    }
   ],
   "source": [
    "preds = m2.predict(train_LA[['FamilyIncome']])\n",
    "predictions = pd.DataFrame(preds, columns=['Predictions'])\n",
    "y_act = train_LA['LoanAmountLog'].reset_index(drop=True, inplace=True)\n",
    "toScore = pd.concat((predictions, train_LA['LoanAmountLog']), axis=1)\n",
    "train_score = mse(toScore['LoanAmountLog'], toScore['Predictions'])\n",
    "print(train_score)"
   ]
  },
  {
   "cell_type": "code",
   "execution_count": 92,
   "metadata": {},
   "outputs": [],
   "source": [
    "def knn_la(train, test, x_cols, y):\n",
    "    print(x_cols)\n",
    "    x_train = train[x_cols]\n",
    "    y_train = train[y]\n",
    "    x_test = test[x_cols]\n",
    "    y_test = test[y]\n",
    "    \n",
    "    #determine best k value\n",
    "    hyperparameters = dict(n_neighbors = list(range(2, 60)))\n",
    "    knn_cv = KNN_Reg()\n",
    "    models = gscv(knn_cv, hyperparameters, cv=10)\n",
    "    best_model = models.fit(x_train, y_train)\n",
    "    k = best_model.best_estimator_.get_params()['n_neighbors']\n",
    "    print('Optimized k:  {}'.format(k))\n",
    "    \n",
    "    #fit model\n",
    "    model = KNN_Reg(n_neighbors = k)\n",
    "    model.fit(x_train, y_train)\n",
    "    \n",
    "    ## training set predictions and score ##\n",
    "    print(' *** Training *** ')\n",
    "    trainPreds = model.predict(x_train)\n",
    "    trainPredictions = pd.DataFrame(trainPreds, columns = ['Predicted'])\n",
    "    y_train.reset_index(drop=True, inplace=True)\n",
    "    trainScoring = pd.concat((y_train, trainPredictions), axis=1)\n",
    "    train_score = mse(trainScoring[y], trainScoring['Predicted'])\n",
    "    print('Train MSE:  {}'.format(train_score))\n",
    "    \n",
    "    ## testing set predictions and score ##\n",
    "    print(' *** Testing *** ')\n",
    "    testPreds = model.predict(x_test)\n",
    "    testPredictions = pd.DataFrame(testPreds, columns = ['Predicted'])\n",
    "    y_test.reset_index(drop=True, inplace=True)\n",
    "    testScoring = pd.concat((y_test, testPredictions), axis=1)\n",
    "    test_score = mse(testScoring[y], testScoring['Predicted'])\n",
    "    print('Test MSE:  {}'.format(test_score))\n",
    "    print('****************************************')\n",
    "    \n",
    "    return model"
   ]
  },
  {
   "cell_type": "code",
   "execution_count": 84,
   "metadata": {},
   "outputs": [
    {
     "name": "stdout",
     "output_type": "stream",
     "text": [
      "['Credit_History']\n",
      "Optimized k:  57\n",
      " *** Training *** \n",
      "Train MSE:  0.25702738749102144\n",
      " *** Testing *** \n",
      "Test MSE:  0.1752812310997264\n",
      "****************************************\n",
      "['Male_IO']\n",
      "Optimized k:  57\n",
      " *** Training *** \n",
      "Train MSE:  0.25020920323313744\n",
      " *** Testing *** \n",
      "Test MSE:  0.17424436033571988\n",
      "****************************************\n",
      "['Married_IO']\n",
      "Optimized k:  58\n",
      " *** Training *** \n",
      "Train MSE:  0.24530114478246837\n",
      " *** Testing *** \n",
      "Test MSE:  0.1692713327668537\n",
      "****************************************\n",
      "['FamilySize']\n",
      "Optimized k:  54\n",
      " *** Training *** \n",
      "Train MSE:  0.24131003435362217\n",
      " *** Testing *** \n",
      "Test MSE:  0.17466207539760484\n",
      "****************************************\n",
      "['Education_IO']\n",
      "Optimized k:  50\n",
      " *** Training *** \n",
      "Train MSE:  0.25448414045545437\n",
      " *** Testing *** \n",
      "Test MSE:  0.17490587549803857\n",
      "****************************************\n",
      "['FamilyIncome']\n",
      "Optimized k:  46\n",
      " *** Training *** \n",
      "Train MSE:  0.13903186500037212\n",
      " *** Testing *** \n",
      "Test MSE:  0.10758542312000027\n",
      "****************************************\n",
      "['DualIncome_IO']\n",
      "Optimized k:  39\n",
      " *** Training *** \n",
      "Train MSE:  0.2590216076381408\n",
      " *** Testing *** \n",
      "Test MSE:  0.17758433966104012\n",
      "****************************************\n",
      "['PA_Urban', 'PA_Rural']\n",
      "Optimized k:  21\n",
      " *** Training *** \n",
      "Train MSE:  0.25183944904699573\n",
      " *** Testing *** \n",
      "Test MSE:  0.17917925621384284\n",
      "****************************************\n",
      "['IncomePerMember']\n",
      "Optimized k:  58\n",
      " *** Training *** \n",
      "Train MSE:  0.22414711348303695\n",
      " *** Testing *** \n",
      "Test MSE:  0.1534848538216954\n",
      "****************************************\n",
      "['LTG_<15', 'LTG_15', 'LTG_1530', 'LTG_30']\n",
      "Optimized k:  33\n",
      " *** Training *** \n",
      "Train MSE:  0.250946611418978\n",
      " *** Testing *** \n",
      "Test MSE:  0.17064316964168835\n",
      "****************************************\n",
      "['Self_Employed_IO']\n",
      "Optimized k:  32\n",
      " *** Training *** \n",
      "Train MSE:  0.25261122002107106\n",
      " *** Testing *** \n",
      "Test MSE:  0.17157269254742386\n",
      "****************************************\n"
     ]
    }
   ],
   "source": [
    "allScores = [['all', bench_train, bench_test, (bench_test-bench_train)]]\n",
    "for c in ['Credit_History', 'Male_IO', 'Married_IO', 'FamilySize', 'Education_IO', 'FamilyIncome', 'DualIncome_IO'\n",
    "         ,['PA_Urban', 'PA_Rural'], 'IncomePerMember', ['LTG_<15', 'LTG_15', 'LTG_1530', 'LTG_30'], 'Self_Employed_IO']:\n",
    "    if type(c) == str:\n",
    "        scores = knn_la(train_LA, test_LA, [c], 'LoanAmountLog')\n",
    "    else:\n",
    "        scores = knn_la(train_LA, test_LA, c, 'LoanAmountLog')\n",
    "    allScores.append(scores)"
   ]
  },
  {
   "cell_type": "code",
   "execution_count": 85,
   "metadata": {},
   "outputs": [
    {
     "data": {
      "text/plain": [
       "[['all', 0.24806627646772436, 0.172010998369502, -0.07605527809822235],\n",
       " [57, 0.25702738749102144, 0.1752812310997264, -0.08174615639129504],\n",
       " [57, 0.25020920323313744, 0.17424436033571988, -0.07596484289741756],\n",
       " [58, 0.24530114478246837, 0.1692713327668537, -0.07602981201561468],\n",
       " [54, 0.24131003435362217, 0.17466207539760484, -0.06664795895601733],\n",
       " [50, 0.25448414045545437, 0.17490587549803857, -0.0795782649574158],\n",
       " [46, 0.13903186500037212, 0.10758542312000027, -0.03144644188037185],\n",
       " [39, 0.2590216076381408, 0.17758433966104012, -0.08143726797710069],\n",
       " [21, 0.25183944904699573, 0.17917925621384284, -0.07266019283315289],\n",
       " [58, 0.22414711348303695, 0.1534848538216954, -0.07066225966134154],\n",
       " [33, 0.250946611418978, 0.17064316964168835, -0.08030344177728965],\n",
       " [32, 0.25261122002107106, 0.17157269254742386, -0.0810385274736472]]"
      ]
     },
     "execution_count": 85,
     "metadata": {},
     "output_type": "execute_result"
    }
   ],
   "source": [
    "allScores"
   ]
  },
  {
   "cell_type": "code",
   "execution_count": 86,
   "metadata": {},
   "outputs": [
    {
     "name": "stdout",
     "output_type": "stream",
     "text": [
      "['FamilyIncome']\n",
      "Optimized k:  46\n",
      " *** Training *** \n",
      "Train MSE:  0.13903186500037212\n",
      " *** Testing *** \n",
      "Test MSE:  0.10758542312000027\n",
      "****************************************\n"
     ]
    }
   ],
   "source": [
    "bench2 = knn_la(train_LA, test_LA, ['FamilyIncome'], 'LoanAmountLog')"
   ]
  },
  {
   "cell_type": "code",
   "execution_count": 87,
   "metadata": {},
   "outputs": [
    {
     "name": "stdout",
     "output_type": "stream",
     "text": [
      "['IncomePerMember']\n",
      "Optimized k:  58\n",
      " *** Training *** \n",
      "Train MSE:  0.22414711348303695\n",
      " *** Testing *** \n",
      "Test MSE:  0.1534848538216954\n",
      "****************************************\n"
     ]
    },
    {
     "data": {
      "text/plain": [
       "[58, 0.22414711348303695, 0.1534848538216954, -0.07066225966134154]"
      ]
     },
     "execution_count": 87,
     "metadata": {},
     "output_type": "execute_result"
    }
   ],
   "source": [
    "knn_la(train_LA, test_LA, ['IncomePerMember'], 'LoanAmountLog')"
   ]
  },
  {
   "cell_type": "code",
   "execution_count": 88,
   "metadata": {},
   "outputs": [
    {
     "name": "stdout",
     "output_type": "stream",
     "text": [
      "['FamilySize']\n",
      "Optimized k:  54\n",
      " *** Training *** \n",
      "Train MSE:  0.24131003435362217\n",
      " *** Testing *** \n",
      "Test MSE:  0.17466207539760484\n",
      "****************************************\n"
     ]
    },
    {
     "data": {
      "text/plain": [
       "[54, 0.24131003435362217, 0.17466207539760484, -0.06664795895601733]"
      ]
     },
     "execution_count": 88,
     "metadata": {},
     "output_type": "execute_result"
    }
   ],
   "source": [
    "knn_la(train_LA, test_LA, ['FamilySize'], 'LoanAmountLog')"
   ]
  },
  {
   "cell_type": "code",
   "execution_count": 89,
   "metadata": {},
   "outputs": [
    {
     "name": "stdout",
     "output_type": "stream",
     "text": [
      "['Married_IO']\n",
      "Optimized k:  58\n",
      " *** Training *** \n",
      "Train MSE:  0.24530114478246837\n",
      " *** Testing *** \n",
      "Test MSE:  0.1692713327668537\n",
      "****************************************\n"
     ]
    },
    {
     "data": {
      "text/plain": [
       "[58, 0.24530114478246837, 0.1692713327668537, -0.07602981201561468]"
      ]
     },
     "execution_count": 89,
     "metadata": {},
     "output_type": "execute_result"
    }
   ],
   "source": [
    "knn_la(train_LA, test_LA, ['Married_IO'], 'LoanAmountLog')"
   ]
  },
  {
   "cell_type": "markdown",
   "metadata": {},
   "source": [
    "Best model uses FamilyIncome, start with that and look to improve.  Start with IncomePerMember, FamilySize, Married, LTGs, PAs, Male, and Credit_History"
   ]
  },
  {
   "cell_type": "code",
   "execution_count": 90,
   "metadata": {},
   "outputs": [
    {
     "name": "stdout",
     "output_type": "stream",
     "text": [
      "['FamilyIncome', 'IncomePerMember']\n",
      "Optimized k:  24\n",
      " *** Training *** \n",
      "Train MSE:  0.13194544786400697\n",
      " *** Testing *** \n",
      "Test MSE:  0.11289478209514421\n",
      "****************************************\n",
      "['FamilyIncome', 'FamilySize']\n",
      "Optimized k:  52\n",
      " *** Training *** \n",
      "Train MSE:  0.1394718986150981\n",
      " *** Testing *** \n",
      "Test MSE:  0.1069653283305002\n",
      "****************************************\n",
      "['FamilyIncome', 'Married_IO']\n",
      "Optimized k:  52\n",
      " *** Training *** \n",
      "Train MSE:  0.13946979864324835\n",
      " *** Testing *** \n",
      "Test MSE:  0.1069861386897735\n",
      "****************************************\n",
      "['FamilyIncome', 'LTG_<15', 'LTG_15', 'LTG_1530', 'LTG_30']\n",
      "Optimized k:  52\n",
      " *** Training *** \n",
      "Train MSE:  0.13933256922150275\n",
      " *** Testing *** \n",
      "Test MSE:  0.10693569028546843\n",
      "****************************************\n",
      "['FamilyIncome', 'PA_Urban', 'PA_Rural']\n",
      "Optimized k:  46\n",
      " *** Training *** \n",
      "Train MSE:  0.13908293384283557\n",
      " *** Testing *** \n",
      "Test MSE:  0.10762549318607205\n",
      "****************************************\n",
      "['FamilyIncome', 'Male_IO']\n",
      "Optimized k:  46\n",
      " *** Training *** \n",
      "Train MSE:  0.13899666800294727\n",
      " *** Testing *** \n",
      "Test MSE:  0.10753120954734005\n",
      "****************************************\n",
      "['FamilyIncome', 'Credit_History']\n",
      "Optimized k:  47\n",
      " *** Training *** \n",
      "Train MSE:  0.1394651238665518\n",
      " *** Testing *** \n",
      "Test MSE:  0.10751972301773918\n",
      "****************************************\n"
     ]
    }
   ],
   "source": [
    "allScores = [[46, bench2[1], bench2[2], (bench2[2]-bench2[1])]]\n",
    "for c in ['IncomePerMember', 'FamilySize', 'Married_IO'\n",
    "          ,['LTG_<15', 'LTG_15', 'LTG_1530', 'LTG_30'], ['PA_Urban', 'PA_Rural']\n",
    "         ,'Male_IO', 'Credit_History']:\n",
    "    if type(c) == str:\n",
    "        scores = knn_la(train_LA, test_LA, ['FamilyIncome', c], 'LoanAmountLog')\n",
    "    else:\n",
    "        scores = knn_la(train_LA, test_LA, ['FamilyIncome'] + c, 'LoanAmountLog')\n",
    "    allScores.append(scores)"
   ]
  },
  {
   "cell_type": "code",
   "execution_count": 91,
   "metadata": {},
   "outputs": [
    {
     "data": {
      "text/plain": [
       "[[46, 0.13903186500037212, 0.10758542312000027, -0.03144644188037185],\n",
       " [24, 0.13194544786400697, 0.11289478209514421, -0.01905066576886276],\n",
       " [52, 0.1394718986150981, 0.1069653283305002, -0.0325065702845979],\n",
       " [52, 0.13946979864324835, 0.1069861386897735, -0.03248365995347485],\n",
       " [52, 0.13933256922150275, 0.10693569028546843, -0.03239687893603432],\n",
       " [46, 0.13908293384283557, 0.10762549318607205, -0.03145744065676352],\n",
       " [46, 0.13899666800294727, 0.10753120954734005, -0.03146545845560722],\n",
       " [47, 0.1394651238665518, 0.10751972301773918, -0.031945400848812616]]"
      ]
     },
     "execution_count": 91,
     "metadata": {},
     "output_type": "execute_result"
    }
   ],
   "source": [
    "allScores"
   ]
  },
  {
   "cell_type": "code",
   "execution_count": null,
   "metadata": {},
   "outputs": [],
   "source": []
  },
  {
   "cell_type": "markdown",
   "metadata": {},
   "source": [
    "Best models: FamilySize, Married, LTG.\n",
    "\n",
    "Use FamilyIncome and the LTG dummy variables to estimate the log of missing loan amount values"
   ]
  },
  {
   "cell_type": "code",
   "execution_count": 95,
   "metadata": {},
   "outputs": [
    {
     "name": "stdout",
     "output_type": "stream",
     "text": [
      "C:\\Users\\joepo\\Desktop\n"
     ]
    }
   ],
   "source": [
    "direct = os.getcwd()\n",
    "print(direct)"
   ]
  },
  {
   "cell_type": "code",
   "execution_count": 93,
   "metadata": {},
   "outputs": [
    {
     "name": "stdout",
     "output_type": "stream",
     "text": [
      "['FamilyIncome', 'LTG_<15', 'LTG_15', 'LTG_1530', 'LTG_30']\n",
      "Optimized k:  52\n",
      " *** Training *** \n",
      "Train MSE:  0.13933256922150275\n",
      " *** Testing *** \n",
      "Test MSE:  0.10693569028546843\n",
      "****************************************\n"
     ]
    }
   ],
   "source": [
    "m = knn_la(train_LA, test_LA, ['FamilyIncome', 'LTG_<15', 'LTG_15', 'LTG_1530', 'LTG_30'], 'LoanAmountLog')"
   ]
  },
  {
   "cell_type": "code",
   "execution_count": 94,
   "metadata": {},
   "outputs": [],
   "source": [
    "fname = 'knn_Loan_Amount.sav'"
   ]
  },
  {
   "cell_type": "code",
   "execution_count": 98,
   "metadata": {},
   "outputs": [],
   "source": [
    "pickle.dump(m, open(os.path.join(direct, 'Project Portfolio', 'Loan Prediction', 'Models', fname), 'wb'))"
   ]
  },
  {
   "cell_type": "code",
   "execution_count": 97,
   "metadata": {},
   "outputs": [],
   "source": [
    "import pickle"
   ]
  },
  {
   "cell_type": "code",
   "execution_count": null,
   "metadata": {},
   "outputs": [],
   "source": []
  }
 ],
 "metadata": {
  "kernelspec": {
   "display_name": "Python 3",
   "language": "python",
   "name": "python3"
  },
  "language_info": {
   "codemirror_mode": {
    "name": "ipython",
    "version": 3
   },
   "file_extension": ".py",
   "mimetype": "text/x-python",
   "name": "python",
   "nbconvert_exporter": "python",
   "pygments_lexer": "ipython3",
   "version": "3.7.4"
  }
 },
 "nbformat": 4,
 "nbformat_minor": 2
}
