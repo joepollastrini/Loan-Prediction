{
 "cells": [
  {
   "cell_type": "markdown",
   "metadata": {},
   "source": [
    "This is mostly the exact same as the model build.  At bottom of this, contains setup for prediction of test set and preparation for submission of test set to https://datahack.analyticsvidhya.com/contest/practice-problem-loan-prediction-iii/#SolutionChecker"
   ]
  },
  {
   "cell_type": "code",
   "execution_count": 1,
   "metadata": {},
   "outputs": [],
   "source": [
    "import os\n",
    "import pandas as pd\n",
    "import numpy as np\n",
    "import requests\n",
    "from matplotlib.cbook import boxplot_stats \n",
    "import warnings\n",
    "warnings.simplefilter(action='ignore')\n",
    "from sklearn.metrics import confusion_matrix as cm\n",
    "from sklearn.metrics import roc_auc_score as ra\n",
    "from sklearn.ensemble import RandomForestClassifier as rf"
   ]
  },
  {
   "cell_type": "code",
   "execution_count": 2,
   "metadata": {},
   "outputs": [],
   "source": [
    "url = \"https://raw.githubusercontent.com/joepollastrini/Loan-Prediction/master\"\n",
    "train_name = 'train_loan_data.csv'\n",
    "test_name = 'test_loan_data.csv'\n",
    "out_name = 'submission rand forest.v4.csv'"
   ]
  },
  {
   "cell_type": "code",
   "execution_count": 3,
   "metadata": {},
   "outputs": [],
   "source": [
    "def data_grab_online(base, name, out='output.csv'):\n",
    "    #get data from url\n",
    "    u = base + '/' + name\n",
    "    r = requests.get(u).content\n",
    "    df = pd.read_csv(u)\n",
    "    return df"
   ]
  },
  {
   "cell_type": "code",
   "execution_count": 4,
   "metadata": {},
   "outputs": [],
   "source": [
    "def gender_impute_and_dummy(row):\n",
    "    #if unmarried and 1 dependent female, else male\n",
    "    if pd.isnull(row['Gender']):\n",
    "        if row['Married'] == 'No' and row['Dependents'] == '1':\n",
    "            return 0\n",
    "        else:\n",
    "            return 1\n",
    "    else:\n",
    "        if row['Gender'] == 'Male':\n",
    "            return 1\n",
    "        else:\n",
    "            return 0"
   ]
  },
  {
   "cell_type": "code",
   "execution_count": 5,
   "metadata": {},
   "outputs": [],
   "source": [
    "def married_impute_and_dummy(x):\n",
    "    #if female, not married, otherwise married\n",
    "    if pd.isnull(x['Married']):\n",
    "        if x['Gender'] == 'Female':\n",
    "            return 0\n",
    "        else:\n",
    "            return 1\n",
    "    else:\n",
    "        if x['Married'] == 'Yes':\n",
    "            return 1\n",
    "        else:\n",
    "            return 0"
   ]
  },
  {
   "cell_type": "code",
   "execution_count": 6,
   "metadata": {},
   "outputs": [],
   "source": [
    "def dependents_impute_and_ordinal(x):\n",
    "    #if married, one dependent, otherwise none\n",
    "    #convert dependents to ordinal int as well\n",
    "    if pd.isnull(x['Dependents']):\n",
    "        if x['Married_IO'] == 1:\n",
    "            return 1\n",
    "        else:\n",
    "            return 0\n",
    "    elif x['Dependents'] == '3+':\n",
    "        return 3\n",
    "    else:\n",
    "        return int(x['Dependents'])"
   ]
  },
  {
   "cell_type": "code",
   "execution_count": 7,
   "metadata": {},
   "outputs": [],
   "source": [
    "def dual_income_dummy(x):\n",
    "    if x['Married'] == 'Yes':\n",
    "        if x['CoapplicantIncome'] > 0:\n",
    "            return 1\n",
    "        else:\n",
    "            return 0\n",
    "    else:\n",
    "        return 0"
   ]
  },
  {
   "cell_type": "code",
   "execution_count": 8,
   "metadata": {},
   "outputs": [],
   "source": [
    "#group loan terms\n",
    "def loan_group(x):\n",
    "    x = int(x)\n",
    "    if x == 360:\n",
    "        return '30'\n",
    "    elif x == 180:\n",
    "        return '15'\n",
    "    elif x < 180:\n",
    "        return '<15'\n",
    "    elif x > 180 and x < 360:\n",
    "        return '(15, 30)'\n",
    "    elif x > 360:\n",
    "        return '>30'\n",
    "    else:\n",
    "        return '??'"
   ]
  },
  {
   "cell_type": "code",
   "execution_count": 9,
   "metadata": {},
   "outputs": [],
   "source": [
    "#log transform loan amount for better mean calculation later\n",
    "#group by loan term for imputation later\n",
    "def get_transform(df):\n",
    "    df['LoanAmountLog'] = np.log(df['LoanAmount'].astype('float64'))\n",
    "    group = df.groupby(['LoanTermGroups'])['LoanAmountLog']\n",
    "    return group"
   ]
  },
  {
   "cell_type": "code",
   "execution_count": 10,
   "metadata": {},
   "outputs": [],
   "source": [
    "def clean(df, train_orig, tf = False):\n",
    "    col_drop = []\n",
    "    col_rename = {}\n",
    "    \n",
    "    # GENDER #\n",
    "    df['Male_IO'] = df.apply(lambda x: gender_impute_and_dummy(x), axis=1)\n",
    "    col_drop.append('Gender')\n",
    "    \n",
    "    # MARRIED #\n",
    "    df['Married_IO'] = df.apply(lambda x: married_impute_and_dummy(x), axis=1)\n",
    "    col_drop.append('Married')\n",
    "    \n",
    "    # DEPENDENTS #\n",
    "    df['Dependents2'] = df.apply(lambda x: dependents_impute_and_ordinal(x), axis=1)\n",
    "    col_drop.append('Dependents')\n",
    "    col_rename['Dependents2'] = 'Dependents'\n",
    "    \n",
    "    # EDUCATION #\n",
    "    df['Education_IO'] = df['Education'].apply(lambda x: 1 if x == 'Graduate' else 0)\n",
    "    col_drop.append('Education')\n",
    "    \n",
    "    # SELF EMPLOYED #\n",
    "    df['Self_Employed'].replace(np.nan, 'No', inplace=True)\n",
    "    df['Self_Employed_IO'] = df['Self_Employed'].apply(lambda x: 1 if x == 'Yes' else 0)\n",
    "    col_drop.append('Self_Employed')\n",
    "\n",
    "    # INCOME #\n",
    "    df['FamilyIncome'] = df['ApplicantIncome'] + df['CoapplicantIncome']\n",
    "    df['DualIncome_IO'] = df.apply(lambda x: dual_income_dummy(x), axis=1)\n",
    "    col_drop.extend(['ApplicantIncome', 'CoapplicantIncome'])\n",
    "    if tf == True:\n",
    "        box = boxplot_stats(df['FamilyIncome'])[0]\n",
    "        lowVal = box['whislo']\n",
    "        highVal = box['whishi']        \n",
    "        #training set, remove outliers\n",
    "        df['income_out'] = df['FamilyIncome'].apply(lambda x: 1 if (x < lowVal or x > highVal) else 0)\n",
    "        df = df.loc[df['income_out'] == 0]\n",
    "        df.reset_index(inplace=True, drop=True)\n",
    "        col_drop.append('income_out')\n",
    "    else:\n",
    "        pass\n",
    "    \n",
    "    # LOAN TERM #\n",
    "    df['Loan_Amount_Term'].replace(np.nan, 360.0, inplace=True)\n",
    "    df['LoanTermGroups'] = df['Loan_Amount_Term'].apply(lambda x: loan_group(x))\n",
    "    \n",
    "    train_orig['Loan_Amount_Term'].replace(np.nan, 360.0, inplace=True)\n",
    "    train_orig['LoanTermGroups'] = train_orig['Loan_Amount_Term'].apply(lambda x: loan_group(x))\n",
    "    col_drop.append('LoanTermGroups')\n",
    "    \n",
    "    # LOAN AMOUNT #\n",
    "    df['LoanAmountLog'] = np.log(df['LoanAmount'].astype('float64'))\n",
    "    t = get_transform(train_orig)\n",
    "    df['LoanAmountLog'] = t.transform(lambda x: x.fillna(x.mean()))\n",
    "    df['LoanAmount2'] = np.exp(df['LoanAmountLog'])\n",
    "    if tf == True:\n",
    "        box = boxplot_stats(df['LoanAmount2'])[0]\n",
    "        lowVal = box['whislo']\n",
    "        highVal = box['whishi']\n",
    "        df['loan_out'] = df['LoanAmount2'].apply(lambda x: 1 if (x < lowVal or x > highVal) else 0)\n",
    "        df = df.loc[df['loan_out'] == 0]\n",
    "        df.reset_index(inplace=True, drop=True)\n",
    "        col_drop.append('loan_out')\n",
    "    else:\n",
    "        pass\n",
    "    col_drop.append('LoanAmount')\n",
    "    \n",
    "    # CREDIT_HISTORY #\n",
    "    df['CreditHistory_IO'] = df['Credit_History'].fillna(1.0).astype('int')\n",
    "    col_drop.append('Credit_History')\n",
    "    \n",
    "    # PROPERTY AREA #\n",
    "    df['PA_Urban'] = df['Property_Area'].apply(lambda x: 1 if x == 'Urban' else 0)\n",
    "    df['PA_Rural'] = df['Property_Area'].apply(lambda x: 1 if x == 'Rural' else 0)\n",
    "    df['PA_Semiurban'] = df['Property_Area'].apply(lambda x: 1 if x == 'Semiurban' else 0)\n",
    "    col_drop.append('Property_Area')\n",
    "    \n",
    "    # DEBT/EQUITY #\n",
    "    df['Debt_Equity'] = (df['LoanAmount2'] * 1000) / df['FamilyIncome']\n",
    "    df['Debt_Equity_Annual'] = (((df['LoanAmount2'] * 1000) / df['Loan_Amount_Term']) * 12) / df['FamilyIncome']\n",
    "    col_drop.extend(['FamilyIncome', 'LoanAmount2'])\n",
    "    \n",
    "    # LOAN STATUS #\n",
    "    try:\n",
    "        df['Loan_Status'].replace('Y', 1, inplace=True)\n",
    "        df['Loan_Status'].replace('N', 0, inplace=True)\n",
    "    except KeyError:\n",
    "        pass\n",
    "    \n",
    "    #column cleaning\n",
    "    df.drop(columns = col_drop, inplace=True)\n",
    "    df.rename(columns=col_rename, inplace=True)\n",
    "    return df"
   ]
  },
  {
   "cell_type": "code",
   "execution_count": 11,
   "metadata": {},
   "outputs": [],
   "source": [
    "def score(actual, pred, pos, neg):\n",
    "    matrix = cm(actual, pred, labels = [pos, neg])\n",
    "    tp, fn, fp, tn = matrix.ravel()\n",
    "    precision = tp / (tp + fp) # p(correct | predict pos)\n",
    "    recall = tp / (tp + fn) # p(correct | actual pos)\n",
    "    accuracy = (tp + tn) / (tp + tn + fp + fn)\n",
    "    f = (2*recall*precision) / (recall + precision)\n",
    "    fpr = fp / (tn + fp)\n",
    "    aucroc = ra(actual, pred)\n",
    "    \n",
    "    print('Accuracy:\\t{:.1f}%'.format(accuracy * 100.0))\n",
    "    print('Precision:\\t{:.3f}'.format(precision))\n",
    "    print('Recall:\\t\\t{:.3f}'.format(recall))\n",
    "    print('F-Score:\\t{:.3f}'.format(f))\n",
    "    print('AUC-ROC Score:\\t{:.3f}'.format(aucroc))\n",
    "    print('FPR:\\t\\t{:.2f}%'.format(fpr * 100.0))\n",
    "    print('\\n\\n')\n",
    "    \n",
    "    print('Actual (side) vs. Predicted (top)')\n",
    "    print('\\t|  {}  \\t|  {}  \\t|'.format(pos, neg))\n",
    "    print('-------------------------')\n",
    "    print('  {}  \\t|  {} \\t|  {} \\t|'.format(pos, tp, fn))\n",
    "    print('-------------------------')\n",
    "    print('  {}  \\t|  {} \\t|  {} \\t|'.format(neg, fp, tn))"
   ]
  },
  {
   "cell_type": "markdown",
   "metadata": {},
   "source": [
    "***\n",
    "# 1) Gather Data"
   ]
  },
  {
   "cell_type": "code",
   "execution_count": 12,
   "metadata": {},
   "outputs": [],
   "source": [
    "#gather data\n",
    "train = data_grab_online(url, train_name)\n",
    "test = data_grab_online(url, test_name)"
   ]
  },
  {
   "cell_type": "markdown",
   "metadata": {},
   "source": [
    "***\n",
    "# 2) Impute Missing Values and Clean"
   ]
  },
  {
   "cell_type": "code",
   "execution_count": 13,
   "metadata": {},
   "outputs": [],
   "source": [
    "train_orig = train.copy()\n",
    "train = clean(train, train_orig, True)\n",
    "test = clean(test, train_orig)"
   ]
  },
  {
   "cell_type": "markdown",
   "metadata": {},
   "source": [
    "# 3) Build Model"
   ]
  },
  {
   "cell_type": "code",
   "execution_count": 14,
   "metadata": {},
   "outputs": [
    {
     "name": "stdout",
     "output_type": "stream",
     "text": [
      "\n",
      "              variable  importance\n",
      "3    CreditHistory_IO    0.550604\n",
      "6         Debt_Equity    0.179375\n",
      "7  Debt_Equity_Annual    0.107358\n",
      "2       LoanAmountLog    0.057980\n",
      "1        Education_IO    0.029953\n",
      "5        PA_Semiurban    0.029121\n",
      "4            PA_Rural    0.026613\n",
      "0          Dependents    0.018996 \n",
      "\n"
     ]
    }
   ],
   "source": [
    "cols = train.columns\n",
    "x_cols = cols.drop(['Loan_ID', 'Loan_Status', 'Married_IO', 'Self_Employed_IO', 'Male_IO', 'DualIncome_IO'\n",
    "                   , 'Loan_Amount_Term', 'PA_Urban'])\n",
    "\n",
    "y_train = train[['Loan_ID', 'Loan_Status']]\n",
    "x_train = train[x_cols]\n",
    "\n",
    "y_test = test['Loan_ID']\n",
    "x_test = test[x_cols]\n",
    "\n",
    "model = rf(random_state=1, max_depth = 5, min_samples_split=20, min_samples_leaf=10)\n",
    "model.fit(x_train, y_train.iloc[:, 1])\n",
    "\n",
    "\n",
    "features = pd.concat((pd.DataFrame(x_train.columns, columns = ['variable']), \n",
    "           pd.DataFrame(model.feature_importances_, columns = ['importance'])), \n",
    "          axis = 1).sort_values(by='importance', ascending = False)[:20]\n",
    "print('\\n', features, '\\n')"
   ]
  },
  {
   "cell_type": "markdown",
   "metadata": {},
   "source": [
    "# 4) Score Model"
   ]
  },
  {
   "cell_type": "code",
   "execution_count": 15,
   "metadata": {},
   "outputs": [],
   "source": [
    "y_true = y_train['Loan_Status']\n",
    "y_pred = model.predict(x_train)"
   ]
  },
  {
   "cell_type": "code",
   "execution_count": 16,
   "metadata": {},
   "outputs": [
    {
     "name": "stdout",
     "output_type": "stream",
     "text": [
      "Accuracy:\t81.9%\n",
      "Precision:\t0.802\n",
      "Recall:\t\t0.978\n",
      "F-Score:\t0.881\n",
      "AUC-ROC Score:\t0.722\n",
      "FPR:\t\t53.42%\n",
      "\n",
      "\n",
      "\n",
      "Actual (side) vs. Predicted (top)\n",
      "\t|  1  \t|  0  \t|\n",
      "-------------------------\n",
      "  1  \t|  349 \t|  8 \t|\n",
      "-------------------------\n",
      "  0  \t|  86 \t|  75 \t|\n"
     ]
    }
   ],
   "source": [
    "score(y_true, y_pred, 1, 0)"
   ]
  },
  {
   "cell_type": "markdown",
   "metadata": {},
   "source": [
    "# 5) Predict Test Values"
   ]
  },
  {
   "cell_type": "code",
   "execution_count": 17,
   "metadata": {},
   "outputs": [],
   "source": [
    "test_pred = model.predict(x_test)\n",
    "predictions = pd.DataFrame(test_pred, columns=['Loan Status Prediction'])\n",
    "test_predictions = pd.concat((y_test, predictions), axis=1)"
   ]
  },
  {
   "cell_type": "markdown",
   "metadata": {},
   "source": [
    "# 6) Prepare for Submission"
   ]
  },
  {
   "cell_type": "code",
   "execution_count": 18,
   "metadata": {},
   "outputs": [
    {
     "name": "stdout",
     "output_type": "stream",
     "text": [
      "writing file to C:\\Users\\joepo\\Desktop\\Project Portfolio\\Loan Prediction\\To Publish\\submission rand forest.v4.csv\n"
     ]
    }
   ],
   "source": [
    "test_predictions['Loan_Status'] = test_predictions['Loan Status Prediction'].apply(lambda x: 'Y' if x==1 else 'N')\n",
    "test_predictions.drop(columns = ['Loan Status Prediction'], inplace=True)\n",
    "\n",
    "\n",
    "direct = os.getcwd()\n",
    "path = os.path.join(direct, out_name)\n",
    "print('writing file to '+path)\n",
    "test_predictions.to_csv(path, index=False)"
   ]
  }
 ],
 "metadata": {
  "kernelspec": {
   "display_name": "Python 3",
   "language": "python",
   "name": "python3"
  },
  "language_info": {
   "codemirror_mode": {
    "name": "ipython",
    "version": 3
   },
   "file_extension": ".py",
   "mimetype": "text/x-python",
   "name": "python",
   "nbconvert_exporter": "python",
   "pygments_lexer": "ipython3",
   "version": "3.7.4"
  }
 },
 "nbformat": 4,
 "nbformat_minor": 2
}
