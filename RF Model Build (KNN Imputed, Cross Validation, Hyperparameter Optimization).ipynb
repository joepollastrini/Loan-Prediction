{
 "cells": [
  {
   "cell_type": "markdown",
   "metadata": {},
   "source": [
    "This model will utilize the data set that KNN models were utilized to impute missing values, instead of the mode as used previously.  It will also attempt to improve the random forest model by utilizing cross validation and hyperparameter optimization.\n",
    "\n",
    "The benchmark rate to beat is 0.7847"
   ]
  },
  {
   "cell_type": "markdown",
   "metadata": {},
   "source": [
    "# Imports"
   ]
  },
  {
   "cell_type": "code",
   "execution_count": 18,
   "metadata": {},
   "outputs": [],
   "source": [
    "import os\n",
    "import pandas as pd\n",
    "import requests\n",
    "\n",
    "from sklearn.metrics import confusion_matrix as cm\n",
    "from sklearn.metrics import roc_auc_score as ra\n",
    "\n",
    "from sklearn.ensemble import RandomForestClassifier as rfc\n",
    "from sklearn.model_selection import RandomizedSearchCV as rscv\n",
    "from sklearn.model_selection import GridSearchCV as gscv\n",
    "from sklearn.feature_selection import SelectFromModel as sfm\n",
    "\n",
    "from IPython.display import Audio  # remove later"
   ]
  },
  {
   "cell_type": "markdown",
   "metadata": {},
   "source": [
    "# Variables"
   ]
  },
  {
   "cell_type": "code",
   "execution_count": 20,
   "metadata": {},
   "outputs": [],
   "source": [
    "url = \"https://raw.githubusercontent.com/joepollastrini/Loan-Prediction/master\"\n",
    "train_name = 'forModel_train.csv'\n",
    "test_name = 'forModel_test.csv'\n",
    "response = 'Loan_Status'\n",
    "\n",
    "sound = 'C:\\Windows\\Media\\Alarm07.wav'  # remove later"
   ]
  },
  {
   "cell_type": "markdown",
   "metadata": {},
   "source": [
    "# Functions"
   ]
  },
  {
   "cell_type": "code",
   "execution_count": 3,
   "metadata": {},
   "outputs": [],
   "source": [
    "def data_grab_online(base, name, out='output.csv'):\n",
    "    #get data from url\n",
    "    u = base + '/' + name\n",
    "    r = requests.get(u).content\n",
    "    df = pd.read_csv(u)\n",
    "    return df"
   ]
  },
  {
   "cell_type": "code",
   "execution_count": 4,
   "metadata": {},
   "outputs": [],
   "source": [
    "def tuning(rg, n, k, seed, drop, data, y, keep=False, rand=True):\n",
    "    #create model and random search grid\n",
    "    model = rfc()\n",
    "    if rand==True:\n",
    "        tuner = rscv(estimator = model\n",
    "                    ,param_distributions = rg\n",
    "                    ,n_iter = n\n",
    "                    ,cv = k\n",
    "                    ,random_state = seed\n",
    "                    ,verbose = 0\n",
    "                    ,n_jobs = -1)\n",
    "    else:\n",
    "        tuner = gscv(estimator = model\n",
    "                     ,param_grid = rg\n",
    "                     ,cv = k\n",
    "                     ,verbose = 0\n",
    "                     ,n_jobs = -1)\n",
    "    \n",
    "    if keep == False:\n",
    "        #get data for model build\n",
    "        allCols = data.columns\n",
    "        x_cols = allCols.drop(drop)\n",
    "        x_train = data[x_cols]\n",
    "        y_train = data[y]\n",
    "    else:\n",
    "        x_train = data[drop]\n",
    "        y_train = data[y]\n",
    "    \n",
    "    #fit model randomly\n",
    "    tuner.fit(x_train, y_train)\n",
    "    \n",
    "    #return best model\n",
    "    return tuner.best_params_, x_train, y_train"
   ]
  },
  {
   "cell_type": "code",
   "execution_count": 5,
   "metadata": {},
   "outputs": [],
   "source": [
    "def model_build(pg, data, cols, y):\n",
    "    model = rfc(n_estimators = pg['n_estimators']\n",
    "               ,max_depth = pg['max_depth']\n",
    "               ,min_samples_split = pg['min_samples_split']\n",
    "               ,min_samples_leaf = pg['min_samples_leaf'])\n",
    "    \n",
    "    x_train = data[cols]\n",
    "    y_train = data[y]\n",
    "    model.fit(x_train, y_train)\n",
    "    preds = model.predict(x_train)\n",
    "    \n",
    "    return model, preds"
   ]
  },
  {
   "cell_type": "code",
   "execution_count": 6,
   "metadata": {},
   "outputs": [],
   "source": [
    "def score(actual, pred, pos, neg):\n",
    "    matrix = cm(actual, pred, labels = [pos, neg])\n",
    "    tp, fn, fp, tn = matrix.ravel()\n",
    "    precision = tp / (tp + fp) # p(correct | predict pos)\n",
    "    recall = tp / (tp + fn) # p(correct | actual pos)\n",
    "    accuracy = (tp + tn) / (tp + tn + fp + fn)\n",
    "    f = (2*recall*precision) / (recall + precision)\n",
    "    fpr = fp / (tn + fp)\n",
    "    aucroc = ra(actual, pred)\n",
    "    \n",
    "    print('Accuracy:\\t{:.1f}%'.format(accuracy * 100.0))\n",
    "    print('Precision:\\t{:.3f}'.format(precision))\n",
    "    print('Recall:\\t\\t{:.3f}'.format(recall))\n",
    "    print('F-Score:\\t{:.3f}'.format(f))\n",
    "    print('AUC-ROC Score:\\t{:.3f}'.format(aucroc))\n",
    "    print('FPR:\\t\\t{:.2f}%'.format(fpr * 100.0))\n",
    "    print('\\n\\n')\n",
    "    \n",
    "    print('Actual (side) vs. Predicted (top)')\n",
    "    print('\\t|  {}  \\t|  {}  \\t|'.format(pos, neg))\n",
    "    print('-------------------------')\n",
    "    print('  {}  \\t|  {} \\t|  {} \\t|'.format(pos, tp, fn))\n",
    "    print('-------------------------')\n",
    "    print('  {}  \\t|  {} \\t|  {} \\t|'.format(neg, fp, tn))"
   ]
  },
  {
   "cell_type": "markdown",
   "metadata": {},
   "source": [
    "# 1) Gather Data"
   ]
  },
  {
   "cell_type": "code",
   "execution_count": 7,
   "metadata": {},
   "outputs": [],
   "source": [
    "train = data_grab_online(url, train_name)\n",
    "test = data_grab_online(url, test_name)"
   ]
  },
  {
   "cell_type": "markdown",
   "metadata": {},
   "source": [
    "***\n",
    "### Data Set 1"
   ]
  },
  {
   "cell_type": "markdown",
   "metadata": {},
   "source": [
    "Keep outliers, use Loan Amount, Dependents, and LoanAmountTerm"
   ]
  },
  {
   "cell_type": "markdown",
   "metadata": {},
   "source": [
    "# 2) Parameter Tuning"
   ]
  },
  {
   "cell_type": "code",
   "execution_count": 8,
   "metadata": {},
   "outputs": [],
   "source": [
    "random_grid = {'n_estimators': list(range(50, 250, 10))\n",
    "               ,'max_features': ['auto'] + list(range(4, 10, 1))\n",
    "               ,'max_depth': list(range(4, 16, 2))\n",
    "               ,'min_samples_split': [2, 5, 10, 20]\n",
    "               ,'min_samples_leaf': [1, 2, 5, 10]\n",
    "              }\n",
    "dropCols = ['Loan_ID', response, 'FamilySize', 'LoanAmountLog', 'LoanTermGroups'\n",
    "            ,'LTG_<15', 'LTG_15', 'LTG_1530', 'LTG_30', 'LTG_>30']\n",
    "    \n",
    "param_start, x_t, y_t = tuning(random_grid, 200, 10, 0, dropCols, train, response)"
   ]
  },
  {
   "cell_type": "code",
   "execution_count": 9,
   "metadata": {},
   "outputs": [
    {
     "data": {
      "text/plain": [
       "{'n_estimators': 110,\n",
       " 'min_samples_split': 10,\n",
       " 'min_samples_leaf': 10,\n",
       " 'max_features': 'auto',\n",
       " 'max_depth': 10}"
      ]
     },
     "execution_count": 9,
     "metadata": {},
     "output_type": "execute_result"
    }
   ],
   "source": [
    "param_start"
   ]
  },
  {
   "cell_type": "markdown",
   "metadata": {},
   "source": [
    "# 2b) Parameter Fine Tuning"
   ]
  },
  {
   "cell_type": "code",
   "execution_count": 12,
   "metadata": {},
   "outputs": [
    {
     "data": {
      "text/plain": [
       "{'max_depth': 7,\n",
       " 'min_samples_leaf': 8,\n",
       " 'min_samples_split': 11,\n",
       " 'n_estimators': 115}"
      ]
     },
     "execution_count": 12,
     "metadata": {},
     "output_type": "execute_result"
    }
   ],
   "source": [
    "random_grid = {'n_estimators': list(range(90, 130, 5))\n",
    "               ,'max_depth': list(range(7, 13, 1))\n",
    "               ,'min_samples_split': list(range(7, 13, 1))\n",
    "               ,'min_samples_leaf': list(range(7, 13, 1))\n",
    "              }\n",
    "dropCols = ['Loan_ID', response, 'FamilySize', 'LoanAmountLog', 'LoanTermGroups'\n",
    "            ,'LTG_<15', 'LTG_15', 'LTG_1530', 'LTG_30', 'LTG_>30']\n",
    "\n",
    "param_finer, x_t, y_t = tuning(random_grid, 200, 10, 0, dropCols, train, response, rand=False)\n",
    "param_finer"
   ]
  },
  {
   "cell_type": "markdown",
   "metadata": {},
   "source": [
    "# 3) Feature Selection"
   ]
  },
  {
   "cell_type": "code",
   "execution_count": 14,
   "metadata": {},
   "outputs": [],
   "source": [
    "sel = sfm(rfc(n_estimators = param_finer['n_estimators']\n",
    "              ,min_samples_split = param_finer['min_samples_split']\n",
    "              ,min_samples_leaf = param_finer['min_samples_leaf']\n",
    "              ,max_depth = param_finer['max_depth']\n",
    "              ,verbose=0, n_jobs=-1))\n",
    "sel.fit(x_t, y_t)\n",
    "feats = x_t.columns[sel.get_support()]"
   ]
  },
  {
   "cell_type": "code",
   "execution_count": 15,
   "metadata": {},
   "outputs": [
    {
     "data": {
      "text/plain": [
       "Index(['FamilyIncome', 'IncomePerMember', 'LoanAmount', 'Debt_Equity',\n",
       "       'Debt_Equity_Annual', 'Credit_History'],\n",
       "      dtype='object')"
      ]
     },
     "execution_count": 15,
     "metadata": {},
     "output_type": "execute_result"
    }
   ],
   "source": [
    "feats"
   ]
  },
  {
   "cell_type": "markdown",
   "metadata": {},
   "source": [
    "# 4) Re tune with selected variables"
   ]
  },
  {
   "cell_type": "code",
   "execution_count": 16,
   "metadata": {},
   "outputs": [
    {
     "data": {
      "text/plain": [
       "{'n_estimators': 100,\n",
       " 'min_samples_split': 8,\n",
       " 'min_samples_leaf': 10,\n",
       " 'max_depth': 5}"
      ]
     },
     "execution_count": 16,
     "metadata": {},
     "output_type": "execute_result"
    }
   ],
   "source": [
    "random_grid = {'n_estimators': list(range(95, 130, 5))\n",
    "               ,'max_depth': list(range(5, 10, 1))\n",
    "               ,'min_samples_split': list(range(8, 14, 1))\n",
    "               ,'min_samples_leaf': list(range(5, 11, 1))\n",
    "              }\n",
    "    \n",
    "params_v2, x_t, y_t = tuning(random_grid, 200, 10, 0, list(feats), train, response, keep=True)\n",
    "params_v2"
   ]
  },
  {
   "cell_type": "markdown",
   "metadata": {},
   "source": [
    "# 4b) Parameter Fine Tuning"
   ]
  },
  {
   "cell_type": "code",
   "execution_count": 18,
   "metadata": {},
   "outputs": [
    {
     "data": {
      "text/plain": [
       "{'max_depth': 4,\n",
       " 'min_samples_leaf': 11,\n",
       " 'min_samples_split': 9,\n",
       " 'n_estimators': 100}"
      ]
     },
     "execution_count": 18,
     "metadata": {},
     "output_type": "execute_result"
    }
   ],
   "source": [
    "random_grid = {'n_estimators': list(range(90, 110, 5))\n",
    "               ,'max_depth': list(range(4, 6, 1))\n",
    "               ,'min_samples_split': list(range(6,10,1))\n",
    "               ,'min_samples_leaf': list(range(8,12,1))\n",
    "              }\n",
    "    \n",
    "final_params, x_t, y_t = tuning(random_grid, 200, 10, 0, list(feats), train, response, keep=True, rand=False)\n",
    "final_params"
   ]
  },
  {
   "cell_type": "markdown",
   "metadata": {},
   "source": [
    "# 5) Model Build and Score"
   ]
  },
  {
   "cell_type": "code",
   "execution_count": 19,
   "metadata": {},
   "outputs": [],
   "source": [
    "la_outliers, predictions = model_build(final_params, train, list(feats), response)"
   ]
  },
  {
   "cell_type": "code",
   "execution_count": 20,
   "metadata": {},
   "outputs": [
    {
     "name": "stdout",
     "output_type": "stream",
     "text": [
      "Accuracy:\t82.2%\n",
      "Precision:\t0.807\n",
      "Recall:\t\t0.974\n",
      "F-Score:\t0.883\n",
      "AUC-ROC Score:\t0.732\n",
      "FPR:\t\t51.04%\n",
      "\n",
      "\n",
      "\n",
      "Actual (side) vs. Predicted (top)\n",
      "\t|  1  \t|  0  \t|\n",
      "-------------------------\n",
      "  1  \t|  411 \t|  11 \t|\n",
      "-------------------------\n",
      "  0  \t|  98 \t|  94 \t|\n"
     ]
    }
   ],
   "source": [
    "score(train[response], predictions, 1, 0)"
   ]
  },
  {
   "cell_type": "code",
   "execution_count": 22,
   "metadata": {},
   "outputs": [
    {
     "name": "stdout",
     "output_type": "stream",
     "text": [
      "\n",
      "              variable  importance\n",
      "5      Credit_History    0.614218\n",
      "3         Debt_Equity    0.112968\n",
      "1     IncomePerMember    0.083125\n",
      "0        FamilyIncome    0.075190\n",
      "4  Debt_Equity_Annual    0.070806\n",
      "2          LoanAmount    0.043694 \n",
      "\n"
     ]
    }
   ],
   "source": [
    "features = pd.concat((pd.DataFrame(train[list(feats)].columns, columns = ['variable']), \n",
    "               pd.DataFrame(la_outliers.feature_importances_, columns = ['importance'])), \n",
    "              axis = 1).sort_values(by='importance', ascending = False)[:20]\n",
    "print('\\n', features, '\\n')"
   ]
  },
  {
   "cell_type": "markdown",
   "metadata": {},
   "source": [
    "# 6) Predict test values"
   ]
  },
  {
   "cell_type": "code",
   "execution_count": 30,
   "metadata": {},
   "outputs": [],
   "source": [
    "preds = la_outliers.predict(test[list(feats)])\n",
    "predictions = pd.DataFrame(preds, columns = ['Predictions'])\n",
    "test_predictions = pd.concat((test['Loan_ID'], predictions), axis=1)\n",
    "test_predictions['Loan_Status'] = test_predictions['Predictions'].apply(lambda x: 'Y' if x == 1 else 'N')\n",
    "test_predictions.drop(columns = ['Predictions'], inplace=True)"
   ]
  },
  {
   "cell_type": "code",
   "execution_count": 31,
   "metadata": {},
   "outputs": [
    {
     "name": "stdout",
     "output_type": "stream",
     "text": [
      "writing file to C:\\Users\\joepo\\Desktop\\Project Portfolio\\Loan Prediction\\sub.csv\n"
     ]
    }
   ],
   "source": [
    "direct = os.getcwd()\n",
    "path = os.path.join(direct, 'sub.csv')\n",
    "print('writing file to {}'.format(path))\n",
    "test_predictions.to_csv(path, index=False)"
   ]
  },
  {
   "cell_type": "markdown",
   "metadata": {},
   "source": [
    "Test accuracy 0.78472 (from analytics vidhaya)"
   ]
  },
  {
   "cell_type": "markdown",
   "metadata": {},
   "source": [
    "***\n",
    "### Data Set 2\n",
    "Replace LoanAmountLog with LoanAmount"
   ]
  },
  {
   "cell_type": "markdown",
   "metadata": {},
   "source": [
    "# 2) Parameter Tuning"
   ]
  },
  {
   "cell_type": "code",
   "execution_count": 23,
   "metadata": {},
   "outputs": [
    {
     "name": "stderr",
     "output_type": "stream",
     "text": [
      "C:\\Users\\joepo\\Anaconda3\\lib\\site-packages\\sklearn\\model_selection\\_search.py:814: DeprecationWarning: The default of the `iid` parameter will change from True to False in version 0.22 and will be removed in 0.24. This will change numeric results when test-set sizes are unequal.\n",
      "  DeprecationWarning)\n"
     ]
    }
   ],
   "source": [
    "random_grid = {'n_estimators': list(range(50, 250, 10))\n",
    "               ,'max_features': ['auto'] + list(range(4, 10, 1))\n",
    "               ,'max_depth': list(range(4, 16, 2))\n",
    "               ,'min_samples_split': [2, 5, 10, 20]\n",
    "               ,'min_samples_leaf': [1, 2, 5, 10]\n",
    "              }\n",
    "dropCols = ['Loan_ID', response, 'FamilySize', 'LoanAmount', 'LoanTermGroups', 'Loan_Amount_Term']\n",
    "    \n",
    "param_start, x_t, y_t = tuning(random_grid, 200, 10, 0, dropCols, train, response)"
   ]
  },
  {
   "cell_type": "code",
   "execution_count": 28,
   "metadata": {},
   "outputs": [
    {
     "data": {
      "text/plain": [
       "{'n_estimators': 50,\n",
       " 'min_samples_split': 10,\n",
       " 'min_samples_leaf': 10,\n",
       " 'max_features': 6,\n",
       " 'max_depth': 10}"
      ]
     },
     "execution_count": 28,
     "metadata": {},
     "output_type": "execute_result"
    }
   ],
   "source": [
    "param_start"
   ]
  },
  {
   "cell_type": "markdown",
   "metadata": {},
   "source": [
    "# 2b) Parameter Fine Tuning"
   ]
  },
  {
   "cell_type": "code",
   "execution_count": 32,
   "metadata": {},
   "outputs": [
    {
     "name": "stderr",
     "output_type": "stream",
     "text": [
      "C:\\Users\\joepo\\Anaconda3\\lib\\site-packages\\sklearn\\model_selection\\_search.py:814: DeprecationWarning: The default of the `iid` parameter will change from True to False in version 0.22 and will be removed in 0.24. This will change numeric results when test-set sizes are unequal.\n",
      "  DeprecationWarning)\n"
     ]
    },
    {
     "data": {
      "text/plain": [
       "{'max_depth': 10,\n",
       " 'max_features': 3,\n",
       " 'min_samples_leaf': 6,\n",
       " 'min_samples_split': 6,\n",
       " 'n_estimators': 40}"
      ]
     },
     "execution_count": 32,
     "metadata": {},
     "output_type": "execute_result"
    }
   ],
   "source": [
    "random_grid = {'n_estimators': list(range(30, 70, 5))\n",
    "               ,'max_features': list(range(3, 9, 1))\n",
    "               ,'max_depth': list(range(6, 14, 2))\n",
    "               ,'min_samples_split': list(range(6, 14, 2))\n",
    "               ,'min_samples_leaf': list(range(6, 14, 2))\n",
    "              }\n",
    "dropCols = ['Loan_ID', response, 'FamilySize', 'LoanAmount', 'LoanTermGroups', 'Loan_Amount_Term']\n",
    "\n",
    "param_finer, x_t, y_t = tuning(random_grid, 200, 10, 0, dropCols, train, response, rand=False)\n",
    "param_finer"
   ]
  },
  {
   "cell_type": "markdown",
   "metadata": {},
   "source": [
    "# 3) Feature Selection"
   ]
  },
  {
   "cell_type": "code",
   "execution_count": 33,
   "metadata": {},
   "outputs": [],
   "source": [
    "sel = sfm(rfc(n_estimators = param_finer['n_estimators']\n",
    "              ,min_samples_split = param_finer['min_samples_split']\n",
    "              ,min_samples_leaf = param_finer['min_samples_leaf']\n",
    "              ,max_features = param_finer['max_features']\n",
    "              ,max_depth = param_finer['max_depth']\n",
    "              ,verbose=0, n_jobs=-1))\n",
    "sel.fit(x_t, y_t)\n",
    "feats = x_t.columns[sel.get_support()]"
   ]
  },
  {
   "cell_type": "markdown",
   "metadata": {},
   "source": [
    "# 4) Re tune with selected variables"
   ]
  },
  {
   "cell_type": "code",
   "execution_count": 34,
   "metadata": {},
   "outputs": [
    {
     "data": {
      "text/plain": [
       "{'n_estimators': 45,\n",
       " 'min_samples_split': 5,\n",
       " 'min_samples_leaf': 7,\n",
       " 'max_depth': 8}"
      ]
     },
     "execution_count": 34,
     "metadata": {},
     "output_type": "execute_result"
    }
   ],
   "source": [
    "random_grid = {'n_estimators': list(range(35, 55, 5))\n",
    "               ,'max_depth': list(range(8, 12, 1))\n",
    "               ,'min_samples_split': list(range(4, 8, 1))\n",
    "               ,'min_samples_leaf': list(range(4, 8, 1))\n",
    "              }\n",
    "    \n",
    "params_v2, x_t, y_t = tuning(random_grid, 200, 10, 0, list(feats), train, response, keep=True)\n",
    "params_v2"
   ]
  },
  {
   "cell_type": "markdown",
   "metadata": {},
   "source": [
    "# 4b) Parameter Fine Tuning"
   ]
  },
  {
   "cell_type": "code",
   "execution_count": 35,
   "metadata": {},
   "outputs": [
    {
     "data": {
      "text/plain": [
       "{'max_depth': 6,\n",
       " 'min_samples_leaf': 7,\n",
       " 'min_samples_split': 4,\n",
       " 'n_estimators': 46}"
      ]
     },
     "execution_count": 35,
     "metadata": {},
     "output_type": "execute_result"
    }
   ],
   "source": [
    "random_grid = {'n_estimators': list(range(43, 47, 1))\n",
    "               ,'max_depth': list(range(6, 10, 1))\n",
    "               ,'min_samples_split': list(range(4,6, 1))\n",
    "               ,'min_samples_leaf': list(range(5, 9, 1))\n",
    "              }\n",
    "    \n",
    "final_params, x_t, y_t = tuning(random_grid, 200, 10, 0, list(feats), train, response, keep=True, rand=False)\n",
    "final_params"
   ]
  },
  {
   "cell_type": "markdown",
   "metadata": {},
   "source": [
    "# 5) Model Build and Score"
   ]
  },
  {
   "cell_type": "code",
   "execution_count": 36,
   "metadata": {},
   "outputs": [],
   "source": [
    "laLog_outliers, predictions = model_build(final_params, train, list(feats), response)"
   ]
  },
  {
   "cell_type": "code",
   "execution_count": 37,
   "metadata": {},
   "outputs": [
    {
     "name": "stdout",
     "output_type": "stream",
     "text": [
      "Accuracy:\t82.7%\n",
      "Precision:\t0.813\n",
      "Recall:\t\t0.972\n",
      "F-Score:\t0.886\n",
      "AUC-ROC Score:\t0.741\n",
      "FPR:\t\t48.96%\n",
      "\n",
      "\n",
      "\n",
      "Actual (side) vs. Predicted (top)\n",
      "\t|  1  \t|  0  \t|\n",
      "-------------------------\n",
      "  1  \t|  410 \t|  12 \t|\n",
      "-------------------------\n",
      "  0  \t|  94 \t|  98 \t|\n"
     ]
    }
   ],
   "source": [
    "score(train[response], predictions, 1, 0)"
   ]
  },
  {
   "cell_type": "code",
   "execution_count": 39,
   "metadata": {},
   "outputs": [
    {
     "name": "stdout",
     "output_type": "stream",
     "text": [
      "\n",
      "              variable  importance\n",
      "5      Credit_History    0.583363\n",
      "3         Debt_Equity    0.122266\n",
      "0        FamilyIncome    0.098940\n",
      "4  Debt_Equity_Annual    0.075175\n",
      "1     IncomePerMember    0.069348\n",
      "2       LoanAmountLog    0.050908 \n",
      "\n"
     ]
    }
   ],
   "source": [
    "features = pd.concat((pd.DataFrame(train[list(feats)].columns, columns = ['variable']), \n",
    "               pd.DataFrame(laLog_outliers.feature_importances_, columns = ['importance'])), \n",
    "              axis = 1).sort_values(by='importance', ascending = False)[:20]\n",
    "print('\\n', features, '\\n')"
   ]
  },
  {
   "cell_type": "markdown",
   "metadata": {},
   "source": [
    "# 6) Predict Test Values"
   ]
  },
  {
   "cell_type": "code",
   "execution_count": 40,
   "metadata": {},
   "outputs": [],
   "source": [
    "preds = laLog_outliers.predict(test[list(feats)])\n",
    "predictions = pd.DataFrame(preds, columns = ['Predictions'])\n",
    "test_predictions = pd.concat((test['Loan_ID'], predictions), axis=1)\n",
    "test_predictions['Loan_Status'] = test_predictions['Predictions'].apply(lambda x: 'Y' if x == 1 else 'N')\n",
    "test_predictions.drop(columns = ['Predictions'], inplace=True)"
   ]
  },
  {
   "cell_type": "code",
   "execution_count": 41,
   "metadata": {},
   "outputs": [
    {
     "name": "stdout",
     "output_type": "stream",
     "text": [
      "writing file to C:\\Users\\joepo\\Desktop\\Project Portfolio\\Loan Prediction\\sub.csv\n"
     ]
    }
   ],
   "source": [
    "direct = os.getcwd()\n",
    "path = os.path.join(direct, 'sub.csv')\n",
    "print('writing file to {}'.format(path))\n",
    "test_predictions.to_csv(path, index=False)"
   ]
  },
  {
   "cell_type": "markdown",
   "metadata": {},
   "source": [
    "Test accuracy of 0.78472"
   ]
  },
  {
   "cell_type": "markdown",
   "metadata": {},
   "source": [
    "***\n",
    "### Data set 3\n",
    "Remove outliers, use same vars as data set 1"
   ]
  },
  {
   "cell_type": "markdown",
   "metadata": {},
   "source": [
    "# 1b) Remove outliers"
   ]
  },
  {
   "cell_type": "code",
   "execution_count": 9,
   "metadata": {},
   "outputs": [],
   "source": [
    "train_inlier = train.loc[(train['income_out_io'] == 0) & (train['la_out_io'] == 0)]"
   ]
  },
  {
   "cell_type": "markdown",
   "metadata": {},
   "source": [
    "# 2) Parameter Tuning"
   ]
  },
  {
   "cell_type": "code",
   "execution_count": 11,
   "metadata": {},
   "outputs": [],
   "source": [
    "random_grid = {'n_estimators': list(range(50, 250, 10))\n",
    "               ,'max_features': ['auto'] + list(range(4, 10, 1))\n",
    "               ,'max_depth': list(range(4, 16, 2))\n",
    "               ,'min_samples_split': [2, 5, 10, 20]\n",
    "               ,'min_samples_leaf': [1, 2, 5, 10]\n",
    "              }\n",
    "dropCols = ['Loan_ID', response, 'FamilySize', 'LoanAmountLog', 'LoanTermGroups'\n",
    "            ,'LTG_<15', 'LTG_15', 'LTG_1530', 'LTG_30', 'LTG_>30']\n",
    "    \n",
    "param_start, x_t, y_t = tuning(random_grid, 200, 10, 0, dropCols, train_inlier, response)"
   ]
  },
  {
   "cell_type": "code",
   "execution_count": 13,
   "metadata": {},
   "outputs": [
    {
     "data": {
      "text/plain": [
       "{'n_estimators': 230,\n",
       " 'min_samples_split': 5,\n",
       " 'min_samples_leaf': 10,\n",
       " 'max_features': 8,\n",
       " 'max_depth': 8}"
      ]
     },
     "execution_count": 13,
     "metadata": {},
     "output_type": "execute_result"
    }
   ],
   "source": [
    "param_start"
   ]
  },
  {
   "cell_type": "markdown",
   "metadata": {},
   "source": [
    "# 2b) Parameter Fine Tuning"
   ]
  },
  {
   "cell_type": "code",
   "execution_count": 16,
   "metadata": {},
   "outputs": [
    {
     "data": {
      "text/plain": [
       "{'max_depth': 10,\n",
       " 'max_features': 8,\n",
       " 'min_samples_leaf': 8,\n",
       " 'min_samples_split': 3,\n",
       " 'n_estimators': 210}"
      ]
     },
     "execution_count": 16,
     "metadata": {},
     "output_type": "execute_result"
    }
   ],
   "source": [
    "random_grid = {'n_estimators': list(range(200, 250, 10))\n",
    "               ,'max_features': list(range(6, 12, 2))\n",
    "               ,'max_depth': list(range(6, 12, 2))\n",
    "               ,'min_samples_split': list(range(3, 9, 2))\n",
    "               ,'min_samples_leaf': list(range(6, 14, 2))\n",
    "              }\n",
    "dropCols = ['Loan_ID', response, 'FamilySize', 'LoanAmount', 'LoanTermGroups', 'Loan_Amount_Term']\n",
    "\n",
    "param_finer, x_t, y_t = tuning(random_grid, 200, 10, 0, dropCols, train_inlier, response, rand=False)\n",
    "param_finer"
   ]
  },
  {
   "cell_type": "markdown",
   "metadata": {},
   "source": [
    "# 3) Feature Selection"
   ]
  },
  {
   "cell_type": "code",
   "execution_count": 17,
   "metadata": {},
   "outputs": [],
   "source": [
    "sel = sfm(rfc(n_estimators = param_finer['n_estimators']\n",
    "              ,min_samples_split = param_finer['min_samples_split']\n",
    "              ,min_samples_leaf = param_finer['min_samples_leaf']\n",
    "              ,max_features = param_finer['max_features']\n",
    "              ,max_depth = param_finer['max_depth']\n",
    "              ,verbose=0, n_jobs=-1))\n",
    "sel.fit(x_t, y_t)\n",
    "feats = x_t.columns[sel.get_support()]"
   ]
  },
  {
   "cell_type": "markdown",
   "metadata": {},
   "source": [
    "# 4) Retune with selected variables"
   ]
  },
  {
   "cell_type": "code",
   "execution_count": 23,
   "metadata": {},
   "outputs": [
    {
     "name": "stderr",
     "output_type": "stream",
     "text": [
      "C:\\Users\\joepo\\Anaconda3\\lib\\site-packages\\sklearn\\model_selection\\_search.py:266: UserWarning: The total space of parameters 108 is smaller than n_iter=200. Running 108 iterations. For exhaustive searches, use GridSearchCV.\n",
      "  % (grid_size, self.n_iter, grid_size), UserWarning)\n"
     ]
    },
    {
     "data": {
      "text/plain": [
       "{'n_estimators': 205,\n",
       " 'min_samples_split': 2,\n",
       " 'min_samples_leaf': 10,\n",
       " 'max_depth': 8}"
      ]
     },
     "execution_count": 23,
     "metadata": {},
     "output_type": "execute_result"
    }
   ],
   "source": [
    "random_grid = {'n_estimators': list(range(195, 225, 5))\n",
    "               ,'max_depth': list(range(8, 12, 2))\n",
    "               ,'min_samples_split': list(range(2, 5, 1))\n",
    "               ,'min_samples_leaf': list(range(6, 12, 2))\n",
    "              }\n",
    "    \n",
    "params_v2, x_t, y_t = tuning(random_grid, 200, 10, 0, list(feats), train_inlier, response, keep=True)\n",
    "params_v2"
   ]
  },
  {
   "cell_type": "markdown",
   "metadata": {},
   "source": [
    "# 4b) Parameter Fine Tuning"
   ]
  },
  {
   "cell_type": "code",
   "execution_count": 25,
   "metadata": {},
   "outputs": [
    {
     "data": {
      "text/plain": [
       "{'max_depth': 6,\n",
       " 'min_samples_leaf': 9,\n",
       " 'min_samples_split': 3,\n",
       " 'n_estimators': 210}"
      ]
     },
     "execution_count": 25,
     "metadata": {},
     "output_type": "execute_result"
    }
   ],
   "source": [
    "random_grid = {'n_estimators': list(range(195, 215, 5))\n",
    "               ,'max_depth': list(range(6, 10, 1))\n",
    "               ,'min_samples_split': list(range(2, 5, 1))\n",
    "               ,'min_samples_leaf': list(range(8, 12, 1))\n",
    "              }\n",
    "    \n",
    "final_params, x_t, y_t = tuning(random_grid, 200, 10, 0, list(feats), train_inlier, response, keep=True, rand=False)\n",
    "final_params"
   ]
  },
  {
   "cell_type": "markdown",
   "metadata": {},
   "source": [
    "# 5) Model Build and Score"
   ]
  },
  {
   "cell_type": "code",
   "execution_count": 27,
   "metadata": {},
   "outputs": [],
   "source": [
    "la_inliers, predictions = model_build(final_params, train_inlier, list(feats), response)"
   ]
  },
  {
   "cell_type": "code",
   "execution_count": 29,
   "metadata": {},
   "outputs": [
    {
     "name": "stdout",
     "output_type": "stream",
     "text": [
      "Accuracy:\t83.4%\n",
      "Precision:\t0.820\n",
      "Recall:\t\t0.974\n",
      "F-Score:\t0.890\n",
      "AUC-ROC Score:\t0.747\n",
      "FPR:\t\t47.93%\n",
      "\n",
      "\n",
      "\n",
      "Actual (side) vs. Predicted (top)\n",
      "\t|  1  \t|  0  \t|\n",
      "-------------------------\n",
      "  1  \t|  370 \t|  10 \t|\n",
      "-------------------------\n",
      "  0  \t|  81 \t|  88 \t|\n"
     ]
    }
   ],
   "source": [
    "score(train_inlier[response], predictions, 1, 0)"
   ]
  },
  {
   "cell_type": "code",
   "execution_count": 30,
   "metadata": {},
   "outputs": [
    {
     "name": "stdout",
     "output_type": "stream",
     "text": [
      "\n",
      "              variable  importance\n",
      "5      Credit_History    0.585317\n",
      "3         Debt_Equity    0.134114\n",
      "4  Debt_Equity_Annual    0.082525\n",
      "1     IncomePerMember    0.072456\n",
      "0        FamilyIncome    0.071426\n",
      "2       LoanAmountLog    0.054162 \n",
      "\n"
     ]
    }
   ],
   "source": [
    "features = pd.concat((pd.DataFrame(train_inlier[list(feats)].columns, columns = ['variable']), \n",
    "               pd.DataFrame(la_inliers.feature_importances_, columns = ['importance'])), \n",
    "              axis = 1).sort_values(by='importance', ascending = False)[:20]\n",
    "print('\\n', features, '\\n')"
   ]
  },
  {
   "cell_type": "markdown",
   "metadata": {},
   "source": [
    "Test accuracy is 0.7847"
   ]
  },
  {
   "cell_type": "markdown",
   "metadata": {},
   "source": [
    "***\n",
    "### Data Set 4\n",
    "Remove outliers (use train_inlier), use same cols as data set 2"
   ]
  },
  {
   "cell_type": "markdown",
   "metadata": {},
   "source": [
    "# 2) Parameter Tuning"
   ]
  },
  {
   "cell_type": "code",
   "execution_count": 31,
   "metadata": {},
   "outputs": [],
   "source": [
    "random_grid = {'n_estimators': list(range(50, 250, 10))\n",
    "               ,'max_features': ['auto'] + list(range(4, 10, 1))\n",
    "               ,'max_depth': list(range(4, 16, 2))\n",
    "               ,'min_samples_split': [2, 5, 10, 20]\n",
    "               ,'min_samples_leaf': [1, 2, 5, 10]\n",
    "              }\n",
    "dropCols = ['Loan_ID', response, 'FamilySize', 'LoanAmount', 'LoanTermGroups', 'Loan_Amount_Term']\n",
    "    \n",
    "param_start, x_t, y_t = tuning(random_grid, 200, 10, 0, dropCols, train_inlier, response)"
   ]
  },
  {
   "cell_type": "code",
   "execution_count": 32,
   "metadata": {},
   "outputs": [
    {
     "data": {
      "text/plain": [
       "{'n_estimators': 50,\n",
       " 'min_samples_split': 20,\n",
       " 'min_samples_leaf': 10,\n",
       " 'max_features': 6,\n",
       " 'max_depth': 14}"
      ]
     },
     "execution_count": 32,
     "metadata": {},
     "output_type": "execute_result"
    }
   ],
   "source": [
    "param_start"
   ]
  },
  {
   "cell_type": "markdown",
   "metadata": {},
   "source": [
    "# 2b) Parameter Fine Tuning"
   ]
  },
  {
   "cell_type": "code",
   "execution_count": 34,
   "metadata": {},
   "outputs": [
    {
     "data": {
      "text/plain": [
       "{'max_depth': 10,\n",
       " 'max_features': 8,\n",
       " 'min_samples_leaf': 8,\n",
       " 'min_samples_split': 22,\n",
       " 'n_estimators': 30}"
      ]
     },
     "execution_count": 34,
     "metadata": {},
     "output_type": "execute_result"
    }
   ],
   "source": [
    "random_grid = {'n_estimators': list(list(range(30, 90, 10)))\n",
    "               ,'max_features': list(range(4, 10, 2))\n",
    "               ,'max_depth': list(range(10, 20, 2))\n",
    "               ,'min_samples_split': list(range(16, 24, 2))\n",
    "               ,'min_samples_leaf': list(range(6, 14, 2))\n",
    "              }\n",
    "dropCols = ['Loan_ID', response, 'FamilySize', 'LoanAmount', 'LoanTermGroups', 'Loan_Amount_Term']\n",
    "\n",
    "param_finer, x_t, y_t = tuning(random_grid, 200, 10, 0, dropCols, train_inlier, response, rand=False)\n",
    "param_finer"
   ]
  },
  {
   "cell_type": "markdown",
   "metadata": {},
   "source": [
    "# 3) Feature Selection"
   ]
  },
  {
   "cell_type": "code",
   "execution_count": 36,
   "metadata": {},
   "outputs": [],
   "source": [
    "sel = sfm(rfc(n_estimators = param_finer['n_estimators']\n",
    "              ,min_samples_split = param_finer['min_samples_split']\n",
    "              ,min_samples_leaf = param_finer['min_samples_leaf']\n",
    "              ,max_features = param_finer['max_features']\n",
    "              ,max_depth = param_finer['max_depth']\n",
    "              ,verbose=0, n_jobs=-1))\n",
    "sel.fit(x_t, y_t)\n",
    "feats = x_t.columns[sel.get_support()]"
   ]
  },
  {
   "cell_type": "markdown",
   "metadata": {},
   "source": [
    "# 4) Retune with Selected Variables"
   ]
  },
  {
   "cell_type": "code",
   "execution_count": 37,
   "metadata": {},
   "outputs": [
    {
     "data": {
      "text/plain": [
       "{'n_estimators': 30,\n",
       " 'min_samples_split': 22,\n",
       " 'min_samples_leaf': 12,\n",
       " 'max_depth': 10}"
      ]
     },
     "execution_count": 37,
     "metadata": {},
     "output_type": "execute_result"
    }
   ],
   "source": [
    "random_grid = {'n_estimators': list(range(30, 120, 10))\n",
    "               ,'max_depth': list(range(6, 14, 2))\n",
    "               ,'min_samples_split': list(range(14, 28, 4))\n",
    "               ,'min_samples_leaf': list(range(4, 14, 2))\n",
    "              }\n",
    "    \n",
    "params_v2, x_t, y_t = tuning(random_grid, 200, 10, 0, list(feats), train_inlier, response, keep=True)\n",
    "params_v2"
   ]
  },
  {
   "cell_type": "markdown",
   "metadata": {},
   "source": [
    "# 4b) Parameter Fine Tuning"
   ]
  },
  {
   "cell_type": "code",
   "execution_count": 39,
   "metadata": {},
   "outputs": [
    {
     "data": {
      "text/plain": [
       "{'max_depth': 9,\n",
       " 'min_samples_leaf': 10,\n",
       " 'min_samples_split': 21,\n",
       " 'n_estimators': 20}"
      ]
     },
     "execution_count": 39,
     "metadata": {},
     "output_type": "execute_result"
    }
   ],
   "source": [
    "random_grid = {'n_estimators': list(range(20, 40, 5))\n",
    "               ,'max_depth': list(range(8, 12, 1))\n",
    "               ,'min_samples_split': list(range(20, 24, 1))\n",
    "               ,'min_samples_leaf': list(range(10, 14, 1))\n",
    "              }\n",
    "    \n",
    "final_params, x_t, y_t = tuning(random_grid, 200, 10, 0, list(feats), train_inlier, response, keep=True, rand=False)\n",
    "final_params"
   ]
  },
  {
   "cell_type": "markdown",
   "metadata": {},
   "source": [
    "# 5) Model Build and Score"
   ]
  },
  {
   "cell_type": "code",
   "execution_count": 41,
   "metadata": {},
   "outputs": [],
   "source": [
    "laLog_inliers, predictions = model_build(final_params, train_inlier, list(feats), response)"
   ]
  },
  {
   "cell_type": "code",
   "execution_count": 43,
   "metadata": {},
   "outputs": [
    {
     "name": "stdout",
     "output_type": "stream",
     "text": [
      "Accuracy:\t83.6%\n",
      "Precision:\t0.821\n",
      "Recall:\t\t0.976\n",
      "F-Score:\t0.892\n",
      "AUC-ROC Score:\t0.749\n",
      "FPR:\t\t47.93%\n",
      "\n",
      "\n",
      "\n",
      "Actual (side) vs. Predicted (top)\n",
      "\t|  1  \t|  0  \t|\n",
      "-------------------------\n",
      "  1  \t|  371 \t|  9 \t|\n",
      "-------------------------\n",
      "  0  \t|  81 \t|  88 \t|\n"
     ]
    }
   ],
   "source": [
    "score(train_inlier[response], predictions, 1, 0)"
   ]
  },
  {
   "cell_type": "code",
   "execution_count": 44,
   "metadata": {},
   "outputs": [
    {
     "name": "stdout",
     "output_type": "stream",
     "text": [
      "\n",
      "              variable  importance\n",
      "5      Credit_History    0.496121\n",
      "4  Debt_Equity_Annual    0.136619\n",
      "3         Debt_Equity    0.117723\n",
      "0        FamilyIncome    0.091333\n",
      "1     IncomePerMember    0.088936\n",
      "2       LoanAmountLog    0.069268 \n",
      "\n"
     ]
    }
   ],
   "source": [
    "features = pd.concat((pd.DataFrame(train_inlier[list(feats)].columns, columns = ['variable']), \n",
    "               pd.DataFrame(laLog_inliers.feature_importances_, columns = ['importance'])), \n",
    "              axis = 1).sort_values(by='importance', ascending = False)[:20]\n",
    "print('\\n', features, '\\n')"
   ]
  },
  {
   "cell_type": "markdown",
   "metadata": {},
   "source": [
    "Test accuracy is 0.7847"
   ]
  },
  {
   "cell_type": "markdown",
   "metadata": {},
   "source": [
    "Exact same accuracy, but let's implement in the final model to get away from mode imputation and use an actual model"
   ]
  },
  {
   "cell_type": "code",
   "execution_count": null,
   "metadata": {},
   "outputs": [],
   "source": []
  }
 ],
 "metadata": {
  "kernelspec": {
   "display_name": "Python 3",
   "language": "python",
   "name": "python3"
  },
  "language_info": {
   "codemirror_mode": {
    "name": "ipython",
    "version": 3
   },
   "file_extension": ".py",
   "mimetype": "text/x-python",
   "name": "python",
   "nbconvert_exporter": "python",
   "pygments_lexer": "ipython3",
   "version": "3.7.4"
  }
 },
 "nbformat": 4,
 "nbformat_minor": 2
}
